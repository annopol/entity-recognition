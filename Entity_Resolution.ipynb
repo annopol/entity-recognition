{
  "nbformat": 4,
  "nbformat_minor": 0,
  "metadata": {
    "colab": {
      "provenance": [],
      "include_colab_link": true
    },
    "kernelspec": {
      "name": "python3",
      "display_name": "Python 3"
    },
    "language_info": {
      "name": "python"
    },
    "gpuClass": "standard"
  },
  "cells": [
    {
      "cell_type": "markdown",
      "metadata": {
        "id": "view-in-github",
        "colab_type": "text"
      },
      "source": [
        "<a href=\"https://colab.research.google.com/github/annopol/entity-recognition/blob/main/Entity_Resolution.ipynb\" target=\"_parent\"><img src=\"https://colab.research.google.com/assets/colab-badge.svg\" alt=\"Open In Colab\"/></a>"
      ]
    },
    {
      "cell_type": "markdown",
      "source": [
        "Approach inspired by a serie of articles on: https://towardsdatascience.com/practical-guide-to-entity-resolution-part-1-f7893402ea7e\n"
      ],
      "metadata": {
        "id": "xD1hCRi4U9jq"
      }
    },
    {
      "cell_type": "markdown",
      "source": [
        "Configuration of Spark session"
      ],
      "metadata": {
        "id": "EtPHmyKA4uc6"
      }
    },
    {
      "cell_type": "code",
      "execution_count": 3,
      "metadata": {
        "id": "nq9BzTIVYPu8"
      },
      "outputs": [],
      "source": [
        "!apt-get install openjdk-8-jdk-headless -qq > /dev/null"
      ]
    },
    {
      "cell_type": "code",
      "source": [
        "!wget -q https://dlcdn.apache.org/spark/spark-3.2.4/spark-3.2.4-bin-hadoop3.2.tgz"
      ],
      "metadata": {
        "id": "RN-qyAmLcrqO"
      },
      "execution_count": 4,
      "outputs": []
    },
    {
      "cell_type": "code",
      "source": [
        "!tar xf spark-3.2.4-bin-hadoop3.2.tgz"
      ],
      "metadata": {
        "id": "CW7XErtccuOa"
      },
      "execution_count": 5,
      "outputs": []
    },
    {
      "cell_type": "code",
      "source": [
        "!pip install -q pyspark"
      ],
      "metadata": {
        "id": "F54lDeuQdEqT",
        "colab": {
          "base_uri": "https://localhost:8080/"
        },
        "outputId": "993887a7-a7ba-4b18-e2dd-e83f54ad2fee"
      },
      "execution_count": 6,
      "outputs": [
        {
          "output_type": "stream",
          "name": "stdout",
          "text": [
            "\u001b[2K     \u001b[90m━━━━━━━━━━━━━━━━━━━━━━━━━━━━━━━━━━━━━━━\u001b[0m \u001b[32m310.8/310.8 MB\u001b[0m \u001b[31m2.9 MB/s\u001b[0m eta \u001b[36m0:00:00\u001b[0m\n",
            "\u001b[?25h  Preparing metadata (setup.py) ... \u001b[?25l\u001b[?25hdone\n",
            "  Building wheel for pyspark (setup.py) ... \u001b[?25l\u001b[?25hdone\n"
          ]
        }
      ]
    },
    {
      "cell_type": "code",
      "source": [
        "!pip install findspark"
      ],
      "metadata": {
        "colab": {
          "base_uri": "https://localhost:8080/"
        },
        "id": "WDXPrXsY7DHn",
        "outputId": "02422192-056e-4f86-c619-5e9484711950"
      },
      "execution_count": 7,
      "outputs": [
        {
          "output_type": "stream",
          "name": "stdout",
          "text": [
            "Collecting findspark\n",
            "  Downloading findspark-2.0.1-py2.py3-none-any.whl (4.4 kB)\n",
            "Installing collected packages: findspark\n",
            "Successfully installed findspark-2.0.1\n"
          ]
        }
      ]
    },
    {
      "cell_type": "code",
      "source": [
        "!pip install graphframes"
      ],
      "metadata": {
        "colab": {
          "base_uri": "https://localhost:8080/"
        },
        "id": "9yvPZduyHM-n",
        "outputId": "02d861c3-a11f-400d-cd76-10127c963b54"
      },
      "execution_count": 8,
      "outputs": [
        {
          "output_type": "stream",
          "name": "stdout",
          "text": [
            "Collecting graphframes\n",
            "  Downloading graphframes-0.6-py2.py3-none-any.whl (18 kB)\n",
            "Requirement already satisfied: numpy in /usr/local/lib/python3.10/dist-packages (from graphframes) (1.23.5)\n",
            "Collecting nose (from graphframes)\n",
            "  Downloading nose-1.3.7-py3-none-any.whl (154 kB)\n",
            "\u001b[2K     \u001b[90m━━━━━━━━━━━━━━━━━━━━━━━━━━━━━━━━━━━━━━━\u001b[0m \u001b[32m154.7/154.7 kB\u001b[0m \u001b[31m4.0 MB/s\u001b[0m eta \u001b[36m0:00:00\u001b[0m\n",
            "\u001b[?25hInstalling collected packages: nose, graphframes\n",
            "Successfully installed graphframes-0.6 nose-1.3.7\n"
          ]
        }
      ]
    },
    {
      "cell_type": "code",
      "source": [
        "# from google.colab import drive\n",
        "# drive.mount('/content/gdrive', force_remount=True)"
      ],
      "metadata": {
        "id": "er36Dgzdd6UG"
      },
      "execution_count": 9,
      "outputs": []
    },
    {
      "cell_type": "code",
      "source": [
        "import os, sys\n",
        "\n",
        "os.environ[\"JAVA_HOME\"] = \"/usr/lib/jvm/java-8-openjdk-amd64\"\n",
        "os.environ[\"PATH\"] = os.environ[\"JAVA_HOME\"] + \"/bin:\" + os.environ[\"PATH\"]\n",
        "os.environ[\"SPARK_HOME\"] = \"/content/spark-3.2.4-bin-hadoop3.2\"\n",
        "\n",
        "os.environ[\"PYSPARK_DRIVER_PYTHON\"] = \"jupyter\"\n",
        "os.environ[\"PYSPARK_DRIVER_PYTHON_OPTS\"] = \"notebook\"\n",
        "os.environ[\"PYSPARK_SUBMIT_ARGS\"] = \"--packages graphframes:graphframes:0.8.2-spark3.2-s_2.12 pyspark-shell\""
      ],
      "metadata": {
        "id": "n8N1-YMtdIdP"
      },
      "execution_count": 10,
      "outputs": []
    },
    {
      "cell_type": "code",
      "source": [
        "import findspark\n",
        "findspark.init()"
      ],
      "metadata": {
        "id": "n6Z8hzkMdMdR"
      },
      "execution_count": 11,
      "outputs": []
    },
    {
      "cell_type": "code",
      "source": [
        "from pyspark.sql import SparkSession\n",
        "from graphframes import GraphFrame\n",
        "\n",
        "spark = SparkSession.builder.appName('Colab') \\\n",
        "    .config('spark.driver.memory', '16g') \\\n",
        "    .config('spark.executor.memory', '16g') \\\n",
        "    .config('spark.executor.cores', '8') \\\n",
        "    .config('spark.sql.shuffle.partitions', '100') \\\n",
        "    .getOrCreate()"
      ],
      "metadata": {
        "id": "4xkZiFu7z4cj"
      },
      "execution_count": 12,
      "outputs": []
    },
    {
      "cell_type": "code",
      "source": [
        "spark.newSession()"
      ],
      "metadata": {
        "colab": {
          "base_uri": "https://localhost:8080/",
          "height": 222
        },
        "id": "qosMLdz6Lmmm",
        "outputId": "ee9a2203-ba35-4985-f133-6a7dab2e0fec"
      },
      "execution_count": 13,
      "outputs": [
        {
          "output_type": "execute_result",
          "data": {
            "text/plain": [
              "<pyspark.sql.session.SparkSession at 0x7b5a02643400>"
            ],
            "text/html": [
              "\n",
              "            <div>\n",
              "                <p><b>SparkSession - in-memory</b></p>\n",
              "                \n",
              "        <div>\n",
              "            <p><b>SparkContext</b></p>\n",
              "\n",
              "            <p><a href=\"http://bf0334ff8957:4040\">Spark UI</a></p>\n",
              "\n",
              "            <dl>\n",
              "              <dt>Version</dt>\n",
              "                <dd><code>v3.2.4</code></dd>\n",
              "              <dt>Master</dt>\n",
              "                <dd><code>local[*]</code></dd>\n",
              "              <dt>AppName</dt>\n",
              "                <dd><code>Colab</code></dd>\n",
              "            </dl>\n",
              "        </div>\n",
              "        \n",
              "            </div>\n",
              "        "
            ]
          },
          "metadata": {},
          "execution_count": 13
        }
      ]
    },
    {
      "cell_type": "code",
      "source": [
        "#import of the developed module functions:\n",
        "# %cd /content/gdrive/MyDrive/fiverrentity/data/\n",
        "# import datasets\n",
        "# sys.path.insert(0,'/content/gdrive/MyDrive/entity/')\n",
        "\n",
        "\n",
        "#Path for the source datasets:\n",
        "# path=\"/content/gdrive/MyDrive/Colab Notebooks/data/\"\n",
        "path=\"/\"\n"
      ],
      "metadata": {
        "id": "jTD3HwxfnZB2"
      },
      "execution_count": 14,
      "outputs": []
    },
    {
      "cell_type": "code",
      "source": [
        "from pyspark.sql import SparkSession, DataFrame\n",
        "from pyspark.sql.functions import lit, col , row_number, concat, lower , trim\n",
        "from pyspark.sql.window import Window\n",
        "\n",
        "\n",
        "def load_data_mapping(spark: SparkSession, path ) -> DataFrame:\n",
        "    \"\"\"\n",
        "    Load dataset Amzon_GoogleProducts_perfectMapping.csv\n",
        "\n",
        "    Args:\n",
        "        spark: Spark session\n",
        "    Returns:\n",
        "        Spark dataframe for Amazon & Google Product Mapping data\n",
        "    \"\"\"\n",
        "    mapping = spark.read.csv(path+'Amzon_GoogleProducts_perfectMapping.csv', header=True)\n",
        "\n",
        "    w = Window().orderBy(lit('A'))\n",
        "    mapping=mapping.withColumn(\"mapIF\", row_number().over(w))\n",
        "\n",
        "    return mapping\n",
        "\n",
        "\n",
        "\n",
        "def load_data_amazon(spark: SparkSession, path ) -> DataFrame:\n",
        "    \"\"\"\n",
        "    Load dataset Amazon.csv\n",
        "\n",
        "    Args:\n",
        "        spark: Spark session\n",
        "    Returns:\n",
        "        Spark dataframe for Amazon  data\n",
        "      \"\"\"\n",
        "    amazon = spark.read.csv(path+'Amazon.csv', header=True)\n",
        "    amazon = amazon.withColumn(\"source\", lit(\"Amazon\"))\\\n",
        "            .withColumn(\"description\", trim(lower(\"description\")))\\\n",
        "            .withColumn('title', trim(lower(concat(col('title'), col('manufacturer')))))\\\n",
        "\n",
        "    return amazon\n",
        "\n",
        "\n",
        "def load_data_google(spark: SparkSession, path ) -> DataFrame:\n",
        "    \"\"\"\n",
        "    Load dataset GoogleProducts.csv\n",
        "\n",
        "    Args:\n",
        "        spark: Spark session\n",
        "    Returns:\n",
        "        Spark dataframe for GoogleProducts data\n",
        "    \"\"\"\n",
        "    google = spark.read.csv(path+'GoogleProducts.csv', header=True)\n",
        "    google = google.withColumnRenamed('name','title')\\\n",
        "            .withColumn(\"source\", lit(\"Google\"))\\\n",
        "            .withColumn(\"description\", trim(lower(\"description\")))\\\n",
        "            .withColumn('title', trim(lower(concat(col('title'), col('manufacturer')))))\\\n",
        "\n",
        "    return google"
      ],
      "metadata": {
        "id": "IBnvsai2-T5N"
      },
      "execution_count": 15,
      "outputs": []
    },
    {
      "cell_type": "code",
      "source": [
        "from pyspark.sql import functions as f\n",
        "from pyspark.sql import types as t\n",
        "from pyspark.sql import SparkSession\n",
        "from pyspark.sql.session import SparkSession\n",
        "from pyspark.context import SparkContext\n",
        "\n",
        "from pyspark.ml.linalg import DenseVector, SparseVector\n",
        "from pyspark.ml.feature import HashingTF, IDF, Tokenizer, RegexTokenizer, CountVectorizer, StopWordsRemover, NGram, Normalizer, VectorAssembler, Word2Vec, Word2VecModel, PCA\n",
        "from pyspark.ml import Pipeline, Transformer\n",
        "from pyspark.ml.linalg import VectorUDT, Vectors\n",
        "import tensorflow_hub as hub\n",
        "from pyspark.sql.functions import udf\n",
        "import nltk\n",
        "from nltk.stem.snowball import SnowballStemmer\n",
        "from pyspark.ml.feature import HashingTF, IDF, Tokenizer\n",
        "\n",
        "\n",
        "def tokenize(df, string_cols):\n",
        "    output = df\n",
        "    for c in string_cols:\n",
        "      output = output.withColumn('temp', f.coalesce(f.col(c), f.lit('')))\n",
        "      tokenizer = RegexTokenizer(inputCol='temp', outputCol=c+\"_tokens\", pattern = \"\\\\W\")\n",
        "        # stands for \"word character\", usually [A-Za-z0-9_]. Notice the inclusion of the underscore and digits.\n",
        "      remover = StopWordsRemover(inputCol=c+\"_tokens\", outputCol=c+\"_swRemoved\")\n",
        "      hashingTF = HashingTF(inputCol=c+\"_swRemoved\", outputCol=c+\"_raw\", numFeatures=40)\n",
        "\n",
        "      idf = IDF(inputCol=c+\"_raw\", outputCol=c+\"_features\")\n",
        "      output = tokenizer.transform(output)\n",
        "      output = remover.transform(output)\n",
        "      output = hashingTF.transform(output)\n",
        "      idfModel = idf.fit(output)\n",
        "      output = idfModel.transform(output)\\\n",
        "          .drop('temp', c+\"_tokens\")\n",
        "\n",
        "    return output\n",
        "\n",
        "\n",
        "\n",
        "def top_kw_from_tfidf(vocab, n=3):\n",
        "  @udf(returnType=t.ArrayType(t.StringType()))\n",
        "  def _(arr):\n",
        "    inds = arr.indices\n",
        "    vals = arr.values\n",
        "    top_inds = vals.argsort()[-n:][::-1]\n",
        "    top_keys = inds[top_inds]\n",
        "    output = []\n",
        "\n",
        "    for k in top_keys:\n",
        "      kw = vocab.value[k]\n",
        "      output.append(kw)\n",
        "\n",
        "    return output\n",
        "  return _\n",
        "\n",
        "\n",
        "def tfidf_top_tokens(df, token_cols, min_freq=1):\n",
        "  output = df\n",
        "  for c in token_cols:\n",
        "    pre = c\n",
        "    cv = CountVectorizer(inputCol=pre, outputCol=pre+'_rawFeatures', minDF=min_freq)\n",
        "    idf = IDF(inputCol=pre+\"_rawFeatures\", outputCol=pre+\"_features\", minDocFreq=min_freq)\n",
        "    normalizer = Normalizer(p=2.0, inputCol=pre+\"_features\", outputCol=pre+'_tfidf')\n",
        "    stages = [cv, idf, normalizer]\n",
        "    pipeline = Pipeline(stages=stages)\n",
        "    model = pipeline.fit(output)\n",
        "    output = model.transform(output)\\\n",
        "      .drop(pre+'_rawFeatures', pre+'_features')\n",
        "\n",
        "    cvModel = model.stages[0]\n",
        "    vocab = spark.sparkContext.broadcast(cvModel.vocabulary)\n",
        "    output = output.withColumn(pre+'_top_tokens', top_kw_from_tfidf(vocab, n=5)(f.col(pre+\"_tfidf\")))\n",
        "\n",
        "  return output\n",
        "\n",
        "\n",
        "# magic function to load model only once per executor\n",
        "MODEL = None\n",
        "def get_model_magic():\n",
        "  global MODEL\n",
        "  if MODEL is None:\n",
        "      MODEL = hub.load(\"https://tfhub.dev/google/universal-sentence-encoder/4\")\n",
        "  return MODEL\n",
        "\n",
        "@udf(returnType=VectorUDT())\n",
        "def encode_sentence(x):\n",
        "  model = get_model_magic()\n",
        "  emb = model([x]).numpy()[0]\n",
        "  return Vectors.dense(emb)\n",
        "\n"
      ],
      "metadata": {
        "id": "MQaY7L5D_j8c"
      },
      "execution_count": 16,
      "outputs": []
    },
    {
      "cell_type": "markdown",
      "source": [
        "Loading Datasets"
      ],
      "metadata": {
        "id": "YL15XEnYPwxO"
      }
    },
    {
      "cell_type": "code",
      "source": [
        "mappings = load_data_mapping(spark, path)\n",
        "df1 = load_data_amazon(spark, path)\n",
        "df2 = load_data_google(spark, path)"
      ],
      "metadata": {
        "id": "MkFnHIelZzmK"
      },
      "execution_count": 21,
      "outputs": []
    },
    {
      "cell_type": "code",
      "source": [
        "# Join both product lists:\n",
        "from pyspark.sql.functions import desc\n",
        "source= df1.union(df2)\n",
        "source = source.limit(2500)\n",
        "test = source.orderBy(desc(\"id\")).limit(1500)"
      ],
      "metadata": {
        "id": "aFcM-eLWYuUB"
      },
      "execution_count": 22,
      "outputs": []
    },
    {
      "cell_type": "code",
      "source": [
        "type(source)"
      ],
      "metadata": {
        "colab": {
          "base_uri": "https://localhost:8080/"
        },
        "id": "u4IyLyr-48zJ",
        "outputId": "795df0cf-9d36-400b-b9e0-fa37da7952ca"
      },
      "execution_count": 23,
      "outputs": [
        {
          "output_type": "execute_result",
          "data": {
            "text/plain": [
              "pyspark.sql.dataframe.DataFrame"
            ]
          },
          "metadata": {},
          "execution_count": 23
        }
      ]
    },
    {
      "cell_type": "markdown",
      "source": [
        "Tokenization:"
      ],
      "metadata": {
        "id": "ryPzlxZYP2q2"
      }
    },
    {
      "cell_type": "code",
      "source": [
        "blocking_df= tokenize(source, [\"description\", \"title\"])\n",
        "blocking_df_test = tokenize(source, [\"description\", \"title\"])"
      ],
      "metadata": {
        "id": "pk3vgrr4xNu2"
      },
      "execution_count": 24,
      "outputs": []
    },
    {
      "cell_type": "markdown",
      "source": [
        "By tokenizing the text in the \"description\" and \"title\" columns of the source DataFrame, you are creating new features that may be useful for downstream tasks such as classification"
      ],
      "metadata": {
        "id": "-9OAO-xbGA5d"
      }
    },
    {
      "cell_type": "markdown",
      "source": [
        "**Blocking functions**\n",
        "\n",
        "Definitions for transformation of the text into tokens and their normalization"
      ],
      "metadata": {
        "id": "L-LHSOoYN4-7"
      }
    },
    {
      "cell_type": "markdown",
      "source": [
        "Apply normalization to tokens:"
      ],
      "metadata": {
        "id": "dr8V4Hz-OKAB"
      }
    },
    {
      "cell_type": "code",
      "source": [
        "blocking_df = tfidf_top_tokens(blocking_df, [c + '_swRemoved' for c in ['title', 'description']])\n",
        "blocking_df_test = tfidf_top_tokens(blocking_df_test, [c + '_swRemoved' for c in ['title', 'description']])"
      ],
      "metadata": {
        "id": "bLtf-pneOJZU"
      },
      "execution_count": 25,
      "outputs": []
    },
    {
      "cell_type": "markdown",
      "source": [
        " these imports are required to perform text preprocessing and feature engineering tasks on a PySpark DataFrame, such as tokenization, stop word removal, and TF-IDF vectorization, to prepare the data for a machine learning model."
      ],
      "metadata": {
        "id": "-_44oz7qpv3K"
      }
    },
    {
      "cell_type": "markdown",
      "source": [
        "Generate blocking keys"
      ],
      "metadata": {
        "id": "fB_3p0NeQVM3"
      }
    },
    {
      "cell_type": "code",
      "source": [
        "keep_cols = ['id','source', 'title', 'description',   'price',\n",
        "              'title_swRemoved', 'description_swRemoved',\n",
        "             'title_swRemoved_tfidf', 'description_swRemoved_tfidf',\n",
        "             'title_encoding', 'description_encoding']\n",
        "LARGEST_BLOCK = 5\n",
        "\n",
        "# from spark_matcher.data import cand_pairs\n",
        "# blok=cand_pairs.generate_pairs(blok, keep_cols, LARGEST_BLOCK)\n",
        "\n",
        "from pyspark.sql import functions as f\n",
        "blocking_df = blocking_df.withColumn('title_encoding', encode_sentence(f.coalesce(f.col('title'), f.lit(''))))\\\n",
        "  .withColumn('description_encoding', encode_sentence(f.coalesce(f.col('description'), f.lit(''))))\\\n",
        "  .withColumn('blocking_keys',\n",
        "               f.array_union(f.col('title_swRemoved_top_tokens'), f.array_union(f.col('description_swRemoved_top_tokens'), f.col('title_swRemoved_top_tokens')))\n",
        "             )\n",
        "blocking_df_test = blocking_df_test.withColumn('title_encoding', encode_sentence(f.coalesce(f.col('title'), f.lit(''))))\\\n",
        "  .withColumn('description_encoding', encode_sentence(f.coalesce(f.col('description'), f.lit(''))))\\\n",
        "  .withColumn('blocking_keys',\n",
        "               f.array_union(f.col('title_swRemoved_top_tokens'), f.array_union(f.col('description_swRemoved_top_tokens'), f.col('title_swRemoved_top_tokens')))\n",
        "             )"
      ],
      "metadata": {
        "id": "ijwuGEnTcHAK"
      },
      "execution_count": 26,
      "outputs": []
    },
    {
      "cell_type": "markdown",
      "source": [
        "This code is preparing the data for blocking, which is the process of grouping similar records together before applying the matching algorithm. The goal of blocking is to reduce the search space and improve the efficiency of the matching algorithm.\n",
        "\n"
      ],
      "metadata": {
        "id": "7Jy9RyXetddD"
      }
    },
    {
      "cell_type": "markdown",
      "source": [
        "generate candidate pairs"
      ],
      "metadata": {
        "id": "57HGwez8Q7xB"
      }
    },
    {
      "cell_type": "code",
      "source": [
        "keep_cols = ['id','source', 'title', 'description',  'price',\n",
        "              'title_swRemoved', 'description_swRemoved',\n",
        "             'title_swRemoved_tfidf', 'description_swRemoved_tfidf',\n",
        "             'title_encoding', 'description_encoding']\n",
        "\n",
        "LARGEST_BLOCK = 5\n",
        "\n",
        "node = blocking_df.select(keep_cols)\n",
        "node_test = blocking_df_test.select(keep_cols)\n",
        "keep_pairs = blocking_df.select(f.explode('blocking_keys').alias('blocking_key'), 'id','source')\\\n",
        "  .groupBy('blocking_key')\\\n",
        "  .agg(\n",
        "    f.count('id').alias('block_size'),\n",
        "    f.countDistinct('source').alias('diff_source_cnt'),\n",
        "    f.collect_set('id').alias('id'),\n",
        "  )\\\n",
        "  .filter(f.col('block_size').between(2,LARGEST_BLOCK))\\\n",
        "  .select('blocking_key', f.explode('id').alias('id'))\\\n",
        "  .filter(f.col('diff_source_cnt') >1)\n",
        "\n",
        "left = keep_pairs.withColumnRenamed('id', 'src')\n",
        "right = keep_pairs.withColumnRenamed('id', 'dst')\n",
        "\n",
        "candidate_pairs = left.join(right, ['blocking_key'], 'inner')\\\n",
        "  .filter(f.col('src') != f.col('dst'))\\\n",
        "  .select('src', 'dst')\\\n",
        "  .distinct()\n"
      ],
      "metadata": {
        "id": "hdATq4uYaE3d"
      },
      "execution_count": 27,
      "outputs": []
    },
    {
      "cell_type": "markdown",
      "source": [
        "The code above is creating candidate pairs of listings that may match based on shared blocking keys. The keep_cols variable defines the columns to keep in the output, which include the listing ID, source, title, description, price, title and description with stop words removed, title and description with stop words removed and represented as TF-IDF vectors, and title and description encoded using the Universal Sentence Encoder."
      ],
      "metadata": {
        "id": "p9rMGK4QtwpY"
      }
    },
    {
      "cell_type": "code",
      "source": [
        "keep_pairs_test = blocking_df_test.select(f.explode('blocking_keys').alias('blocking_key'), 'id','source')\\\n",
        "  .groupBy('blocking_key')\\\n",
        "  .agg(\n",
        "    f.count('id').alias('block_size'),\n",
        "    f.countDistinct('source').alias('diff_source_cnt'),\n",
        "    f.collect_set('id').alias('id'),\n",
        "  )\\\n",
        "  .filter(f.col('block_size').between(2,LARGEST_BLOCK))\\\n",
        "  .select('blocking_key', f.explode('id').alias('id'))\\\n",
        "  .filter(f.col('diff_source_cnt') >1)\n",
        "\n",
        "left_test = keep_pairs_test.withColumnRenamed('id', 'src')\n",
        "right_test = keep_pairs_test.withColumnRenamed('id', 'dst')\n",
        "\n",
        "candidate_pairs_test = left_test.join(right_test, ['blocking_key'], 'inner')\\\n",
        "  .filter(f.col('src') != f.col('dst'))\\\n",
        "  .select('src', 'dst')\\\n",
        "  .distinct()"
      ],
      "metadata": {
        "id": "g8LEiDdS8scl"
      },
      "execution_count": 28,
      "outputs": []
    },
    {
      "cell_type": "markdown",
      "source": [
        "**Create graph dataframe**"
      ],
      "metadata": {
        "id": "CGHtRIc3Rcol"
      }
    },
    {
      "cell_type": "code",
      "source": [
        "from graphframes import GraphFrame\n",
        "g = GraphFrame(node, candidate_pairs)\n",
        "g_test=GraphFrame(node_test,candidate_pairs_test)"
      ],
      "metadata": {
        "id": "Wourq0bo94YL"
      },
      "execution_count": 29,
      "outputs": []
    },
    {
      "cell_type": "code",
      "source": [
        "# node.show()"
      ],
      "metadata": {
        "id": "5KRJdho-e5z9"
      },
      "execution_count": null,
      "outputs": []
    },
    {
      "cell_type": "markdown",
      "source": [
        "**Definitions for similarity calculation**\n",
        "\n",
        "\n"
      ],
      "metadata": {
        "id": "C9RVBNhCRXpj"
      }
    },
    {
      "cell_type": "markdown",
      "source": [],
      "metadata": {
        "id": "_S__ygyRRXmz"
      }
    },
    {
      "cell_type": "code",
      "source": [
        "from functools import reduce\n",
        "import operator"
      ],
      "metadata": {
        "id": "yoItpstahqjn"
      },
      "execution_count": 30,
      "outputs": []
    },
    {
      "cell_type": "code",
      "source": [
        "@udf(\"double\")\n",
        "def dot(x, y):\n",
        "  if x is not None and y is not None:\n",
        "    return float(x.dot(y))\n",
        "  else:\n",
        "    return 0\n",
        "\n",
        "def null_safe_levenshtein_sim(c1, c2):\n",
        "  output = f.when(f.col(c1).isNull() | f.col(c2).isNull(), 0)\\\n",
        "            .otherwise(1 - f.levenshtein(c1, c2) / f.greatest(f.length(c1), f.length(c2)))\n",
        "  return output\n",
        "\n",
        "def null_safe_num_sim(c1, c2):\n",
        "  output = f.when(f.col(c1).isNull() | f.col(c2).isNull(), 0)\\\n",
        "            .when((f.col(c1) == 0) & (f.col(c2) == 0), 1)\\\n",
        "            .when((f.col(c1) == 0) | (f.col(c2) == 0), 0)\\\n",
        "            .otherwise(1 - f.abs(f.col(c1) - f.col(c2)) / f.greatest(c1, c2))\n",
        "  return output\n",
        "\n",
        "def null_safe_token_overlap(c1, c2):\n",
        "  # is the overlap a significant part of the shorter string\n",
        "  output = f.when(f.col(c1).isNull() | f.col(c2).isNull(), 0)\\\n",
        "            .when((f.size(f.array_distinct(c1)) == 0) | (f.size(f.array_distinct(c2)) == 0), 0)\\\n",
        "            .otherwise(f.size(f.array_intersect(c1, c2)) / f.least(f.size(f.array_distinct(c1)), f.size(f.array_distinct(c1))))\n",
        "  return output\n",
        "\n",
        "def calc_sim(df):\n",
        "  df = df.withColumn('title_lev', null_safe_levenshtein_sim('src.title', 'dst.title'))\\\n",
        "      .withColumn('description_lev', null_safe_levenshtein_sim('src.description', 'dst.description'))\\\n",
        "      .withColumn('title_token_sim', null_safe_token_overlap('src.title_swRemoved', 'dst.title_swRemoved'))\\\n",
        "      .withColumn('description_token_sim', null_safe_token_overlap('src.description_swRemoved', 'dst.description_swRemoved'))\\\n",
        "      .withColumn('price_sim', null_safe_num_sim('src.price', 'dst.price'))\\\n",
        "      .withColumn('title_tfidf_sim', dot(f.col('src.title_swRemoved_tfidf'), f.col('dst.title_swRemoved_tfidf')))\\\n",
        "      .withColumn('description_tfidf_sim', dot(f.col('src.description_swRemoved_tfidf'), f.col('dst.description_swRemoved_tfidf')))\\\n",
        "      .withColumn('title_encoding_sim', dot(f.col('src.title_encoding'), f.col('dst.title_encoding')))\\\n",
        "      .withColumn('description_encoding_sim', dot(f.col('src.description_encoding'), f.col('dst.description_encoding')))\n",
        "\n",
        "  metrics = ['description_lev', 'title_lev', 'price_sim', 'title_tfidf_sim', 'description_tfidf_sim',\n",
        "             'title_encoding_sim', 'description_encoding_sim',\n",
        "             'title_token_sim', 'description_token_sim'\n",
        "            ]\n",
        "\n",
        "  df = df.withColumn('overall_sim', reduce(operator.add, [f.col(c) for c in metrics]) / len(metrics))\n",
        "  return df\n",
        "\n",
        "\n",
        "distance_df = calc_sim(g.triplets)\n",
        "distance_df_test = calc_sim(g_test.triplets)"
      ],
      "metadata": {
        "id": "oSmSuwtLJYZC"
      },
      "execution_count": 31,
      "outputs": []
    },
    {
      "cell_type": "code",
      "source": [
        "# distance_df.show()"
      ],
      "metadata": {
        "id": "G2rCCaT7gy8n"
      },
      "execution_count": null,
      "outputs": []
    },
    {
      "cell_type": "markdown",
      "source": [
        "The code defines several functions for calculating similarity measures between pairs of records, and applies them to a DataFrame containing pairs of records (triplets).The resulting distance_df and distance_df_test DataFrames contain the original triplets, as well as columns for each similarity measure and an overall similarity score. These DataFrames can be used to train and evaluate a matching model.\n"
      ],
      "metadata": {
        "id": "wPHl-ltgw31Z"
      }
    },
    {
      "cell_type": "markdown",
      "source": [
        "**Joining the information from the Perfect Mapping dataset**"
      ],
      "metadata": {
        "id": "DDAvXQNMRmDr"
      }
    },
    {
      "cell_type": "code",
      "source": [
        "from pyspark.sql.functions import col\n",
        "#create training data by joining with perfect matching information:\n",
        "distance_df2=distance_df.withColumn('src_id', f.col('edge.src'))\\\n",
        "             .withColumn('dst_id', f.col('edge.dst'))\\\n",
        "             .withColumn('diff_source', (f.col('src.source') != f.col('dst.source')).cast('integer'))\n",
        "\n",
        "cond=((distance_df2.src_id==mappings.idAmazon) & (distance_df2.dst_id==mappings.idGoogleBase)) |\\\n",
        "       ((distance_df2.src_id==mappings.idGoogleBase) & (distance_df2.dst_id==mappings.idAmazon))\n",
        "\n",
        "distance_df3=distance_df2.join(mappings, on=cond, how='left').distinct()\\\n",
        "          .withColumn('mapped_flg',  f.coalesce((f.col('mapIF')>0).cast('integer'),f.lit(0)))\n",
        ""
      ],
      "metadata": {
        "id": "J-zdEElcUinQ"
      },
      "execution_count": 32,
      "outputs": []
    },
    {
      "cell_type": "code",
      "source": [
        "distance_df2_test=distance_df_test.withColumn('src_id', f.col('edge.src'))\\\n",
        "             .withColumn('dst_id', f.col('edge.dst'))\\\n",
        "             .withColumn('diff_source', (f.col('src.source') != f.col('dst.source')).cast('integer'))\n",
        "\n",
        "cond=((distance_df2_test.src_id==mappings.idAmazon) & (distance_df2_test.dst_id==mappings.idGoogleBase)) |\\\n",
        "       ((distance_df2_test.src_id==mappings.idGoogleBase) & (distance_df2_test.dst_id==mappings.idAmazon))\n",
        "\n",
        "distance_df3_test=distance_df2_test.join(mappings, on=cond, how='left').distinct()\\\n",
        "          .withColumn('mapped_flg',  f.coalesce((f.col('mapIF')>0).cast('integer'),f.lit(0)))"
      ],
      "metadata": {
        "id": "S2TWF7Wz966q"
      },
      "execution_count": 33,
      "outputs": []
    },
    {
      "cell_type": "code",
      "source": [
        "# groupBy to check number of matched pairs:\n",
        "prop=distance_df3.groupBy(\"mapped_flg\").count()"
      ],
      "metadata": {
        "id": "0ctYiP8FfGuf"
      },
      "execution_count": 34,
      "outputs": []
    },
    {
      "cell_type": "code",
      "source": [
        "# prop.show()"
      ],
      "metadata": {
        "id": "Jb29yc6wQLek"
      },
      "execution_count": null,
      "outputs": []
    },
    {
      "cell_type": "markdown",
      "source": [
        "**Creating dataframe for supervised modeling**"
      ],
      "metadata": {
        "id": "_lWLfJOORyI9"
      }
    },
    {
      "cell_type": "code",
      "source": [
        "features = ['description_lev', 'title_lev', 'price_sim',\n",
        "            'title_tfidf_sim', 'description_tfidf_sim',\n",
        "            'title_token_sim', 'description_token_sim',\n",
        "            'title_encoding_sim', 'description_encoding_sim']\n",
        "from pyspark.ml.feature import StringIndexer\n",
        "\n",
        "df_m = distance_df3\n",
        "df_m_test = distance_df3_test\n",
        "\n",
        "# assemble the vectors to make a final feature set\n",
        "# feature_df = feature_df.withColumn('features', f.array(*[f.col(c) for c in features]))\n",
        "\n",
        "assembler= VectorAssembler(inputCols= ['imputed_{}'.format(item) for item in features],\n",
        "                           outputCol= \"features\",\n",
        "                           handleInvalid=\"keep\")\n",
        "\n",
        "assembler = VectorAssembler(inputCols=features, outputCol=\"features\")\n",
        "df_m = assembler.transform(df_m)\n",
        "df_m_test = assembler.transform(df_m_test)"
      ],
      "metadata": {
        "id": "w-BlLJspJGlx"
      },
      "execution_count": 35,
      "outputs": []
    },
    {
      "cell_type": "markdown",
      "source": [
        "**Training of the model**"
      ],
      "metadata": {
        "id": "9ZtU3CDtSJkl"
      }
    },
    {
      "cell_type": "code",
      "source": [
        "from pyspark.ml.classification import RandomForestClassifier\n",
        "# param_grid = {'n_estimators': [50, 75, 100], 'max_depth': [11, 12, 13], 'max_features': ['log2', 'sqrt', None]}\n",
        "\n",
        "rf = RandomForestClassifier(featuresCol = 'features', labelCol = 'mapped_flg', seed=1)\n",
        "rf.setFeaturesCol(\"features\")\n",
        "\n",
        "# Taking 70% of both 0's and 1's into training set\n",
        "train = df_m.sampleBy(\"mapped_flg\", fractions={0: 0.5, 1: 0.8}, seed=10)\n",
        "\n",
        " # Subtracting 'train' from original 'data' to get test set\n",
        "test = df_m_test.sampleBy(\"mapped_flg\", fractions={0: 0.5, 1: 0.8}, seed=10)\n",
        "\n"
      ],
      "metadata": {
        "id": "nCSKa-DD0-WG"
      },
      "execution_count": 36,
      "outputs": []
    },
    {
      "cell_type": "code",
      "source": [
        "test.count()"
      ],
      "metadata": {
        "colab": {
          "base_uri": "https://localhost:8080/",
          "height": 517
        },
        "id": "OmWPG6Cgu6bT",
        "outputId": "4cdc8bbe-e466-46e2-a75b-440ff67fac2f"
      },
      "execution_count": 59,
      "outputs": [
        {
          "output_type": "stream",
          "name": "stderr",
          "text": [
            "ERROR:root:KeyboardInterrupt while sending command.\n",
            "Traceback (most recent call last):\n",
            "  File \"/content/spark-3.2.4-bin-hadoop3.2/python/lib/py4j-0.10.9.5-src.zip/py4j/java_gateway.py\", line 1038, in send_command\n",
            "    response = connection.send_command(command)\n",
            "  File \"/content/spark-3.2.4-bin-hadoop3.2/python/lib/py4j-0.10.9.5-src.zip/py4j/clientserver.py\", line 511, in send_command\n",
            "    answer = smart_decode(self.stream.readline()[:-1])\n",
            "  File \"/usr/lib/python3.10/socket.py\", line 705, in readinto\n",
            "    return self._sock.recv_into(b)\n",
            "KeyboardInterrupt\n"
          ]
        },
        {
          "output_type": "error",
          "ename": "KeyboardInterrupt",
          "evalue": "ignored",
          "traceback": [
            "\u001b[0;31m---------------------------------------------------------------------------\u001b[0m",
            "\u001b[0;31mKeyboardInterrupt\u001b[0m                         Traceback (most recent call last)",
            "\u001b[0;32m<ipython-input-59-3be3f61c8b67>\u001b[0m in \u001b[0;36m<cell line: 1>\u001b[0;34m()\u001b[0m\n\u001b[0;32m----> 1\u001b[0;31m \u001b[0mtest\u001b[0m\u001b[0;34m.\u001b[0m\u001b[0mcount\u001b[0m\u001b[0;34m(\u001b[0m\u001b[0;34m)\u001b[0m\u001b[0;34m\u001b[0m\u001b[0;34m\u001b[0m\u001b[0m\n\u001b[0m",
            "\u001b[0;32m/content/spark-3.2.4-bin-hadoop3.2/python/pyspark/sql/dataframe.py\u001b[0m in \u001b[0;36mcount\u001b[0;34m(self)\u001b[0m\n\u001b[1;32m    678\u001b[0m         \u001b[0;36m2\u001b[0m\u001b[0;34m\u001b[0m\u001b[0;34m\u001b[0m\u001b[0m\n\u001b[1;32m    679\u001b[0m         \"\"\"\n\u001b[0;32m--> 680\u001b[0;31m         \u001b[0;32mreturn\u001b[0m \u001b[0mint\u001b[0m\u001b[0;34m(\u001b[0m\u001b[0mself\u001b[0m\u001b[0;34m.\u001b[0m\u001b[0m_jdf\u001b[0m\u001b[0;34m.\u001b[0m\u001b[0mcount\u001b[0m\u001b[0;34m(\u001b[0m\u001b[0;34m)\u001b[0m\u001b[0;34m)\u001b[0m\u001b[0;34m\u001b[0m\u001b[0;34m\u001b[0m\u001b[0m\n\u001b[0m\u001b[1;32m    681\u001b[0m \u001b[0;34m\u001b[0m\u001b[0m\n\u001b[1;32m    682\u001b[0m     \u001b[0;32mdef\u001b[0m \u001b[0mcollect\u001b[0m\u001b[0;34m(\u001b[0m\u001b[0mself\u001b[0m\u001b[0;34m)\u001b[0m\u001b[0;34m:\u001b[0m\u001b[0;34m\u001b[0m\u001b[0;34m\u001b[0m\u001b[0m\n",
            "\u001b[0;32m/content/spark-3.2.4-bin-hadoop3.2/python/lib/py4j-0.10.9.5-src.zip/py4j/java_gateway.py\u001b[0m in \u001b[0;36m__call__\u001b[0;34m(self, *args)\u001b[0m\n\u001b[1;32m   1318\u001b[0m             \u001b[0mproto\u001b[0m\u001b[0;34m.\u001b[0m\u001b[0mEND_COMMAND_PART\u001b[0m\u001b[0;34m\u001b[0m\u001b[0;34m\u001b[0m\u001b[0m\n\u001b[1;32m   1319\u001b[0m \u001b[0;34m\u001b[0m\u001b[0m\n\u001b[0;32m-> 1320\u001b[0;31m         \u001b[0manswer\u001b[0m \u001b[0;34m=\u001b[0m \u001b[0mself\u001b[0m\u001b[0;34m.\u001b[0m\u001b[0mgateway_client\u001b[0m\u001b[0;34m.\u001b[0m\u001b[0msend_command\u001b[0m\u001b[0;34m(\u001b[0m\u001b[0mcommand\u001b[0m\u001b[0;34m)\u001b[0m\u001b[0;34m\u001b[0m\u001b[0;34m\u001b[0m\u001b[0m\n\u001b[0m\u001b[1;32m   1321\u001b[0m         return_value = get_return_value(\n\u001b[1;32m   1322\u001b[0m             answer, self.gateway_client, self.target_id, self.name)\n",
            "\u001b[0;32m/content/spark-3.2.4-bin-hadoop3.2/python/lib/py4j-0.10.9.5-src.zip/py4j/java_gateway.py\u001b[0m in \u001b[0;36msend_command\u001b[0;34m(self, command, retry, binary)\u001b[0m\n\u001b[1;32m   1036\u001b[0m         \u001b[0mconnection\u001b[0m \u001b[0;34m=\u001b[0m \u001b[0mself\u001b[0m\u001b[0;34m.\u001b[0m\u001b[0m_get_connection\u001b[0m\u001b[0;34m(\u001b[0m\u001b[0;34m)\u001b[0m\u001b[0;34m\u001b[0m\u001b[0;34m\u001b[0m\u001b[0m\n\u001b[1;32m   1037\u001b[0m         \u001b[0;32mtry\u001b[0m\u001b[0;34m:\u001b[0m\u001b[0;34m\u001b[0m\u001b[0;34m\u001b[0m\u001b[0m\n\u001b[0;32m-> 1038\u001b[0;31m             \u001b[0mresponse\u001b[0m \u001b[0;34m=\u001b[0m \u001b[0mconnection\u001b[0m\u001b[0;34m.\u001b[0m\u001b[0msend_command\u001b[0m\u001b[0;34m(\u001b[0m\u001b[0mcommand\u001b[0m\u001b[0;34m)\u001b[0m\u001b[0;34m\u001b[0m\u001b[0;34m\u001b[0m\u001b[0m\n\u001b[0m\u001b[1;32m   1039\u001b[0m             \u001b[0;32mif\u001b[0m \u001b[0mbinary\u001b[0m\u001b[0;34m:\u001b[0m\u001b[0;34m\u001b[0m\u001b[0;34m\u001b[0m\u001b[0m\n\u001b[1;32m   1040\u001b[0m                 \u001b[0;32mreturn\u001b[0m \u001b[0mresponse\u001b[0m\u001b[0;34m,\u001b[0m \u001b[0mself\u001b[0m\u001b[0;34m.\u001b[0m\u001b[0m_create_connection_guard\u001b[0m\u001b[0;34m(\u001b[0m\u001b[0mconnection\u001b[0m\u001b[0;34m)\u001b[0m\u001b[0;34m\u001b[0m\u001b[0;34m\u001b[0m\u001b[0m\n",
            "\u001b[0;32m/content/spark-3.2.4-bin-hadoop3.2/python/lib/py4j-0.10.9.5-src.zip/py4j/clientserver.py\u001b[0m in \u001b[0;36msend_command\u001b[0;34m(self, command)\u001b[0m\n\u001b[1;32m    509\u001b[0m         \u001b[0;32mtry\u001b[0m\u001b[0;34m:\u001b[0m\u001b[0;34m\u001b[0m\u001b[0;34m\u001b[0m\u001b[0m\n\u001b[1;32m    510\u001b[0m             \u001b[0;32mwhile\u001b[0m \u001b[0;32mTrue\u001b[0m\u001b[0;34m:\u001b[0m\u001b[0;34m\u001b[0m\u001b[0;34m\u001b[0m\u001b[0m\n\u001b[0;32m--> 511\u001b[0;31m                 \u001b[0manswer\u001b[0m \u001b[0;34m=\u001b[0m \u001b[0msmart_decode\u001b[0m\u001b[0;34m(\u001b[0m\u001b[0mself\u001b[0m\u001b[0;34m.\u001b[0m\u001b[0mstream\u001b[0m\u001b[0;34m.\u001b[0m\u001b[0mreadline\u001b[0m\u001b[0;34m(\u001b[0m\u001b[0;34m)\u001b[0m\u001b[0;34m[\u001b[0m\u001b[0;34m:\u001b[0m\u001b[0;34m-\u001b[0m\u001b[0;36m1\u001b[0m\u001b[0;34m]\u001b[0m\u001b[0;34m)\u001b[0m\u001b[0;34m\u001b[0m\u001b[0;34m\u001b[0m\u001b[0m\n\u001b[0m\u001b[1;32m    512\u001b[0m                 \u001b[0mlogger\u001b[0m\u001b[0;34m.\u001b[0m\u001b[0mdebug\u001b[0m\u001b[0;34m(\u001b[0m\u001b[0;34m\"Answer received: {0}\"\u001b[0m\u001b[0;34m.\u001b[0m\u001b[0mformat\u001b[0m\u001b[0;34m(\u001b[0m\u001b[0manswer\u001b[0m\u001b[0;34m)\u001b[0m\u001b[0;34m)\u001b[0m\u001b[0;34m\u001b[0m\u001b[0;34m\u001b[0m\u001b[0m\n\u001b[1;32m    513\u001b[0m                 \u001b[0;31m# Happens when a the other end is dead. There might be an empty\u001b[0m\u001b[0;34m\u001b[0m\u001b[0;34m\u001b[0m\u001b[0m\n",
            "\u001b[0;32m/usr/lib/python3.10/socket.py\u001b[0m in \u001b[0;36mreadinto\u001b[0;34m(self, b)\u001b[0m\n\u001b[1;32m    703\u001b[0m         \u001b[0;32mwhile\u001b[0m \u001b[0;32mTrue\u001b[0m\u001b[0;34m:\u001b[0m\u001b[0;34m\u001b[0m\u001b[0;34m\u001b[0m\u001b[0m\n\u001b[1;32m    704\u001b[0m             \u001b[0;32mtry\u001b[0m\u001b[0;34m:\u001b[0m\u001b[0;34m\u001b[0m\u001b[0;34m\u001b[0m\u001b[0m\n\u001b[0;32m--> 705\u001b[0;31m                 \u001b[0;32mreturn\u001b[0m \u001b[0mself\u001b[0m\u001b[0;34m.\u001b[0m\u001b[0m_sock\u001b[0m\u001b[0;34m.\u001b[0m\u001b[0mrecv_into\u001b[0m\u001b[0;34m(\u001b[0m\u001b[0mb\u001b[0m\u001b[0;34m)\u001b[0m\u001b[0;34m\u001b[0m\u001b[0;34m\u001b[0m\u001b[0m\n\u001b[0m\u001b[1;32m    706\u001b[0m             \u001b[0;32mexcept\u001b[0m \u001b[0mtimeout\u001b[0m\u001b[0;34m:\u001b[0m\u001b[0;34m\u001b[0m\u001b[0;34m\u001b[0m\u001b[0m\n\u001b[1;32m    707\u001b[0m                 \u001b[0mself\u001b[0m\u001b[0;34m.\u001b[0m\u001b[0m_timeout_occurred\u001b[0m \u001b[0;34m=\u001b[0m \u001b[0;32mTrue\u001b[0m\u001b[0;34m\u001b[0m\u001b[0;34m\u001b[0m\u001b[0m\n",
            "\u001b[0;31mKeyboardInterrupt\u001b[0m: "
          ]
        }
      ]
    },
    {
      "cell_type": "code",
      "source": [
        "rfModel = rf.fit(train)\n",
        "predictions = rfModel.transform(df_m_test)\n",
        "#print(\"Training Dataset Count: \" + str(train.count()))\n",
        "#print(\"Test Dataset Count: \" + str(test.count()))"
      ],
      "metadata": {
        "id": "WWlfh-Ayu5MS"
      },
      "execution_count": 37,
      "outputs": []
    },
    {
      "cell_type": "code",
      "source": [
        "# print (predictions.show(1))"
      ],
      "metadata": {
        "id": "3bq1o4IAvbi1"
      },
      "execution_count": null,
      "outputs": []
    },
    {
      "cell_type": "code",
      "source": [
        "from sklearn.metrics import confusion_matrix\n",
        "\n",
        "y_true = predictions.select(['mapped_flg']).collect()\n",
        "y_pred = predictions.select(['prediction']).collect()\n",
        "\n",
        "cm = confusion_matrix(y_true, y_pred)\n",
        "print(cm)\n"
      ],
      "metadata": {
        "colab": {
          "base_uri": "https://localhost:8080/"
        },
        "id": "1fE_F24xYVVh",
        "outputId": "0f5506c2-3c0a-4f3b-ca7c-04896ef6d519"
      },
      "execution_count": 38,
      "outputs": [
        {
          "output_type": "stream",
          "name": "stdout",
          "text": [
            "[[4299   93]\n",
            " [ 172  194]]\n"
          ]
        }
      ]
    },
    {
      "cell_type": "code",
      "source": [
        "TP = cm[0, 0]\n",
        "TN = cm[1, 1]\n",
        "FP = cm[1, 0]\n",
        "FN = cm[0, 1]\n",
        "\n",
        "accuracy = (TP + TN) / (TP + TN + FP + FN)\n",
        "precision = TP / (TP + FP)\n",
        "recall = TP / (TP + FN)\n",
        "specificity = TN / (TN + FP)\n",
        "f1_score = 2 * precision * recall / (precision + recall)\n",
        "\n",
        "print(\"Accuracy:\", accuracy)\n",
        "print(\"Precision:\", precision)\n",
        "print(\"Recall:\", recall)\n",
        "print(\"Specificity:\", specificity)\n",
        "print(\"F1 Score:\", f1_score)"
      ],
      "metadata": {
        "colab": {
          "base_uri": "https://localhost:8080/"
        },
        "id": "bs-g8D2zZn0a",
        "outputId": "5555b04a-d99d-4bbf-e3f6-08187695b034"
      },
      "execution_count": 39,
      "outputs": [
        {
          "output_type": "stream",
          "name": "stdout",
          "text": [
            "Accuracy: 0.9443043295502311\n",
            "Precision: 0.9615298590919258\n",
            "Recall: 0.9788251366120219\n",
            "Specificity: 0.5300546448087432\n",
            "F1 Score: 0.9701004174658694\n"
          ]
        }
      ]
    },
    {
      "cell_type": "code",
      "source": [
        "import seaborn as sns\n",
        "\n",
        "s=sns.heatmap(cm, annot=True, cmap=\"Blues\", fmt=\"d\", xticklabels=[\"No\", \"Yes\"], yticklabels=[\"No\", \"Yes\"])\n",
        "s.set(xlabel='Predicted label', ylabel='True label')"
      ],
      "metadata": {
        "colab": {
          "base_uri": "https://localhost:8080/",
          "height": 485
        },
        "id": "FeZLFaUydcwK",
        "outputId": "e4ad9c49-f932-4866-80da-a543fa3d2ebf"
      },
      "execution_count": 45,
      "outputs": [
        {
          "output_type": "execute_result",
          "data": {
            "text/plain": [
              "[Text(0.5, 23.52222222222222, 'Predicted label'),\n",
              " Text(50.722222222222214, 0.5, 'True label')]"
            ]
          },
          "metadata": {},
          "execution_count": 45
        },
        {
          "output_type": "display_data",
          "data": {
            "text/plain": [
              "<Figure size 640x480 with 2 Axes>"
            ],
            "image/png": "[encoded data removed]"
          },
          "metadata": {}
        }
      ]
    },
    {
      "cell_type": "code",
      "source": [
        "from sklearn.metrics import roc_curve, auc\n",
        "import matplotlib.pyplot as plt\n",
        "\n",
        "# assuming you have defined the true labels as y_true and predicted probabilities as y_pred\n",
        "fpr, tpr, thresholds = roc_curve(y_true, y_pred)\n",
        "roc_auc = auc(fpr, tpr)\n",
        "\n",
        "# plot the ROC curve\n",
        "plt.plot(fpr, tpr, color='darkorange', lw=2, label='ROC curve (area = %0.2f)' % roc_auc)\n",
        "plt.plot([0, 1], [0, 1], color='navy', lw=2, linestyle='--')\n",
        "plt.xlim([0.0, 1.0])\n",
        "plt.ylim([0.0, 1.05])\n",
        "plt.xlabel('False Positive Rate')\n",
        "plt.ylabel('True Positive Rate')\n",
        "plt.title('Receiver Operating Characteristic')\n",
        "plt.legend(loc=\"lower right\")\n",
        "plt.show()"
      ],
      "metadata": {
        "colab": {
          "base_uri": "https://localhost:8080/",
          "height": 472
        },
        "id": "Jdf26zB1fBIB",
        "outputId": "433b5655-a60a-4b44-b83d-d61fddb2eafa"
      },
      "execution_count": 46,
      "outputs": [
        {
          "output_type": "display_data",
          "data": {
            "text/plain": [
              "<Figure size 640x480 with 1 Axes>"
            ],
            "image/png": "[encoded data removed]"
          },
          "metadata": {}
        }
      ]
    },
    {
      "cell_type": "code",
      "source": [
        "import matplotlib.pyplot as plt\n",
        "importances = rfModel.featureImportances\n",
        "\n",
        "# create a bar chart of feature importances\n",
        "plt.bar(features, importances)\n",
        "\n",
        "# set x-axis label\n",
        "plt.xlabel('Feature')\n",
        "\n",
        "# set y-axis label\n",
        "plt.ylabel('Importance')\n",
        "\n",
        "# set chart title\n",
        "plt.title('Feature Importances')\n",
        "\n",
        "# rotate x-axis labels to improve readability\n",
        "plt.xticks(rotation=90)\n",
        "\n",
        "# display the chart\n",
        "plt.show()"
      ],
      "metadata": {
        "colab": {
          "base_uri": "https://localhost:8080/",
          "height": 637
        },
        "id": "dd3EOUen7Lzf",
        "outputId": "8f120a33-9f17-46ba-f6ec-deec83cc1d11"
      },
      "execution_count": 52,
      "outputs": [
        {
          "output_type": "display_data",
          "data": {
            "text/plain": [
              "<Figure size 640x480 with 1 Axes>"
            ],
            "image/png": "[encoded data removed]"
          },
          "metadata": {}
        }
      ]
    },
    {
      "cell_type": "markdown",
      "source": [
        "**evaluating the model**"
      ],
      "metadata": {
        "id": "w962VSQMSONr"
      }
    },
    {
      "cell_type": "code",
      "source": [
        "# initialize the evaluator\n",
        "from pyspark.ml.evaluation import BinaryClassificationEvaluator\n",
        "evaluator = BinaryClassificationEvaluator(labelCol=\"mapped_flg\")\n",
        "# calculate AUC\n",
        "auc = evaluator.evaluate(predictions, {evaluator.metricName: 'areaUnderROC'})\n",
        "print('Test AUC: %0.3f' % auc)\n"
      ],
      "metadata": {
        "id": "cVzqIsUNroli",
        "colab": {
          "base_uri": "https://localhost:8080/"
        },
        "outputId": "46407ba6-4a93-4dfe-db46-d77cb36f2380"
      },
      "execution_count": 53,
      "outputs": [
        {
          "output_type": "stream",
          "name": "stdout",
          "text": [
            "Test AUC: 0.936\n"
          ]
        }
      ]
    },
    {
      "cell_type": "code",
      "source": [
        "#Draw ROC curve:\n",
        "import matplotlib.pyplot as plt\n",
        "plt.figure(figsize=(5,5))\n",
        "plt.plot([0, 1], [0, 1], 'r--')\n",
        "plt.plot(rfModel.summary.roc.select('FPR').collect(),\n",
        "         rfModel.summary.roc.select('TPR').collect())\n",
        "plt.xlabel('FPR')\n",
        "plt.ylabel('TPR')\n",
        "plt.show()"
      ],
      "metadata": {
        "id": "9BXii8xrscb1",
        "colab": {
          "base_uri": "https://localhost:8080/",
          "height": 521
        },
        "outputId": "a6c10cf2-24bd-47d6-cfa0-9e285ae032b5"
      },
      "execution_count": 55,
      "outputs": [
        {
          "output_type": "stream",
          "name": "stderr",
          "text": [
            "/content/spark-3.2.4-bin-hadoop3.2/python/pyspark/sql/context.py:125: FutureWarning: Deprecated in 3.0.0. Use SparkSession.builder.getOrCreate() instead.\n",
            "  warnings.warn(\n"
          ]
        },
        {
          "output_type": "display_data",
          "data": {
            "text/plain": [
              "<Figure size 500x500 with 1 Axes>"
            ],
            "image/png": "[encoded data removed]"
          },
          "metadata": {}
        }
      ]
    },
    {
      "cell_type": "markdown",
      "source": [
        "**Generate entities:**"
      ],
      "metadata": {
        "id": "UsA2XUeLSRvM"
      }
    },
    {
      "cell_type": "code",
      "source": [
        "##Generate entities:\n",
        "predictions_pairs = rfModel.transform(df_m)\n",
        "\n",
        "#Matched entities:\n",
        "generated_entities=predictions_pairs.filter(predictions_pairs.prediction==1.0)\n",
        "#apply the model on whole dataset"
      ],
      "metadata": {
        "id": "6safdkW3SpFz"
      },
      "execution_count": 58,
      "outputs": []
    },
    {
      "cell_type": "code",
      "source": [
        "generated_entities.show(10)"
      ],
      "metadata": {
        "colab": {
          "base_uri": "https://localhost:8080/"
        },
        "id": "Zv3t3HvSm3hJ",
        "outputId": "71e22e7c-7132-4ce7-e0bd-6c9e001a5f42"
      },
      "execution_count": 59,
      "outputs": [
        {
          "output_type": "stream",
          "name": "stdout",
          "text": [
            "+--------------------+--------------------+--------------------+---------+-------------------+---------------+---------------------+------------------+---------------+---------------------+--------------------+------------------------+-------------------+--------------------+--------------------+-----------+----------+--------------------+-----+----------+--------------------+--------------------+--------------------+----------+\n",
            "|                 src|                edge|                 dst|title_lev|    description_lev|title_token_sim|description_token_sim|         price_sim|title_tfidf_sim|description_tfidf_sim|  title_encoding_sim|description_encoding_sim|        overall_sim|              src_id|              dst_id|diff_source|  idAmazon|        idGoogleBase|mapIF|mapped_flg|            features|       rawPrediction|         probability|prediction|\n",
            "+--------------------+--------------------+--------------------+---------+-------------------+---------------+---------------------+------------------+---------------+---------------------+--------------------+------------------------+-------------------+--------------------+--------------------+-----------+----------+--------------------+-----+----------+--------------------+--------------------+--------------------+----------+\n",
            "|{http://www.googl...|{http://www.googl...|{b000nkklwe, Amaz...|      0.0|0.33333333333333337|            0.0|  0.21428571428571427| 0.831415707853927|            0.0|   0.2635079167526907|-0.03423599401052...|      0.6038062354600187|0.24579032374168377|http://www.google...|          b000nkklwe|          1|b000nkklwe|http://www.google...|  863|         1|[0.33333333333333...|[8.66364804330135...|[0.43318240216506...|       1.0|\n",
            "|{b0000899lt, Amaz...|{b0000899lt, http...|{http://www.googl...|      0.0| 0.9259259259259259|            0.0|   0.9565217391304348|0.5645215071690564|            0.0|   0.9886468267223203|0.007244951950395585|      0.9811258461362483|0.49155408855937566|          b0000899lt|http://www.google...|          1|b0000899lt|http://www.google...|  838|         1|[0.92592592592592...|[7.40738541384979...|[0.37036927069248...|       1.0|\n",
            "|{b000p4v8am, Amaz...|{b000p4v8am, http...|{http://www.googl...|      0.0|0.26074498567335247|            0.0|  0.10256410256410256|0.8412017167381973|            0.0|  0.43301922953925914| -0.0379229706262402|      0.6829321173165859| 0.2536154645783619|          b000p4v8am|http://www.google...|          1|      null|                null| null|         0|[0.26074498567335...|[7.35949098001249...|[0.36797454900062...|       1.0|\n",
            "|{http://www.googl...|{http://www.googl...|{b000p4v8am, Amaz...|      0.0|0.33810888252148996|            0.0|   0.7692307692307693|0.5293276108726752|            0.0|  0.47249702484340467| -0.0379229706262402|      0.8250954696934243|0.32181519850394696|http://www.google...|          b000p4v8am|          1|      null|                null| null|         0|[0.33810888252148...|[7.46256086118465...|[0.37312804305923...|       1.0|\n",
            "|{b000cabe44, Amaz...|{b000cabe44, http...|{http://www.googl...|      0.0|               0.25|            0.0|  0.18181818181818182|0.8349669933986797|            0.0|  0.48022387379011805|-0.00333057198059...|      0.7279937621059692| 0.2746302487924839|          b000cabe44|http://www.google...|          1|      null|                null| null|         0|[0.25,0.0,0.83496...|[7.10143704248258...|[0.35507185212412...|       1.0|\n",
            "|{b000jlj0cy, Amaz...|{b000jlj0cy, http...|{http://www.googl...|      0.0|0.11885245901639341|            0.0|                  0.8|0.9901980396079215|            0.0|   0.5272911699951727|0.012378548475373678|     0.47091407393902607|0.32440381011487635|          b000jlj0cy|http://www.google...|          1|b000jlj0cy|http://www.google...|  831|         1|[0.11885245901639...|[9.11698628437439...|[0.45584931421871...|       1.0|\n",
            "|{b000g80lku, Amaz...|{b000g80lku, http...|{http://www.googl...|      0.0|0.19976771196283394|            0.0|  0.10588235294117647|0.9840396807936158|            0.0|  0.40489766833479657|-0.02294371798902...|      0.7251396716815133| 0.2663092630805452|          b000g80lku|http://www.google...|          1|b000g80lku|http://www.google...|  824|         1|[0.19976771196283...|[8.19728966882327...|[0.40986448344116...|       1.0|\n",
            "|{b000hlt57q, Amaz...|{b000hlt57q, http...|{http://www.googl...|      0.0| 0.2919254658385093|            0.0|   0.2413793103448276|0.9008760951188987|            0.0|  0.39130032346326593|-0.06166737808879613|      0.6168214292588468|0.26451502732617244|          b000hlt57q|http://www.google...|          1|      null|                null| null|         0|[0.29192546583850...|[7.45832815925246...|[0.37291640796262...|       1.0|\n",
            "|{b000bu7u48, Amaz...|{b000bu7u48, http...|{http://www.googl...|      0.0|0.32392026578073085|            0.0|  0.27450980392156865|0.9844961240310076|            0.0|  0.38396335389685565|-0.02771095849554034|      0.7289868387136464|0.29646282531647433|          b000bu7u48|http://www.google...|          1|b000bu7u48|http://www.google...|  876|         1|[0.32392026578073...|[8.13660913262585...|[0.40683045663129...|       1.0|\n",
            "|{http://www.googl...|{http://www.googl...|{b000nkklwy, Amaz...|      0.0|0.32173913043478264|            0.0|   0.2962962962962963|               1.0|            0.0|  0.30130929508810544|-0.00556029163034...|      0.6146113976694323|0.28093286976202964|http://www.google...|          b000nkklwy|          1|      null|                null| null|         0|[0.32173913043478...|[9.52442949001059...|[0.47622147450052...|       1.0|\n",
            "+--------------------+--------------------+--------------------+---------+-------------------+---------------+---------------------+------------------+---------------+---------------------+--------------------+------------------------+-------------------+--------------------+--------------------+-----------+----------+--------------------+-----+----------+--------------------+--------------------+--------------------+----------+\n",
            "only showing top 10 rows\n",
            "\n"
          ]
        }
      ]
    }
  ]
}