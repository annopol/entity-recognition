{
  "nbformat": 4,
  "nbformat_minor": 0,
  "metadata": {
    "colab": {
      "provenance": []
    },
    "kernelspec": {
      "name": "python3",
      "display_name": "Python 3"
    },
    "language_info": {
      "name": "python"
    },
    "gpuClass": "standard"
  },
  "cells": [
    {
      "cell_type": "code",
      "execution_count": null,
      "metadata": {
        "id": "nq9BzTIVYPu8"
      },
      "outputs": [],
      "source": [
        "!apt-get install openjdk-8-jdk-headless -qq > /dev/null"
      ]
    },
    {
      "cell_type": "code",
      "source": [
        "!wget -q https://dlcdn.apache.org/spark/spark-3.3.2/spark-3.3.2-bin-hadoop3.tgz"
      ],
      "metadata": {
        "id": "RN-qyAmLcrqO"
      },
      "execution_count": null,
      "outputs": []
    },
    {
      "cell_type": "code",
      "source": [
        "!tar xf spark-3.3.2-bin-hadoop3.tgz"
      ],
      "metadata": {
        "id": "CW7XErtccuOa"
      },
      "execution_count": null,
      "outputs": []
    },
    {
      "cell_type": "code",
      "source": [
        "!pip install -q pyspark"
      ],
      "metadata": {
        "id": "F54lDeuQdEqT"
      },
      "execution_count": null,
      "outputs": []
    },
    {
      "cell_type": "code",
      "source": [
        "!pip install findspark"
      ],
      "metadata": {
        "colab": {
          "base_uri": "https://localhost:8080/"
        },
        "id": "WDXPrXsY7DHn",
        "outputId": "317f586e-516e-4b42-ca3b-0588fac2bc6d"
      },
      "execution_count": null,
      "outputs": [
        {
          "output_type": "stream",
          "name": "stdout",
          "text": [
            "Looking in indexes: https://pypi.org/simple, https://us-python.pkg.dev/colab-wheels/public/simple/\n",
            "Requirement already satisfied: findspark in /usr/local/lib/python3.8/dist-packages (2.0.1)\n"
          ]
        }
      ]
    },
    {
      "cell_type": "code",
      "source": [
        "!curl -L -o \"/usr/local/lib/python3.8/dist-packages/pyspark/jars/graphframes-0.8.2-spark3.2-s_2.12.jar\" http://dl.bintray.com/spark-packages/maven/graphframes/graphframes/0.8.2-spark3.2-s_2.12/graphframes-0.8.2-spark3.2-s_2.12.jar"
      ],
      "metadata": {
        "colab": {
          "base_uri": "https://localhost:8080/"
        },
        "id": "9yvPZduyHM-n",
        "outputId": "d0031760-3003-4784-b261-422671a2012b"
      },
      "execution_count": null,
      "outputs": [
        {
          "output_type": "stream",
          "name": "stdout",
          "text": [
            "  % Total    % Received % Xferd  Average Speed   Time    Time     Time  Current\n",
            "                                 Dload  Upload   Total   Spent    Left  Speed\n",
            "100   164  100   164    0     0   1071      0 --:--:-- --:--:-- --:--:--  1071\n",
            "Warning: Failed to create the file \n",
            "Warning: /usr/local/lib/python3.8/dist-packages/pyspark/jars/graphframes-0.8.2-\n",
            "Warning: spark3.2-s_2.12.jar: No such file or directory\n",
            "100   146  100   146    0     0    342      0 --:--:-- --:--:-- --:--:--   342\n",
            "curl: (23) Failed writing body (0 != 146)\n"
          ]
        }
      ]
    },
    {
      "cell_type": "code",
      "source": [
        "from google.colab import drive\n",
        "drive.mount('/content/gdrive', force_remount=True)\n"
      ],
      "metadata": {
        "colab": {
          "base_uri": "https://localhost:8080/"
        },
        "id": "er36Dgzdd6UG",
        "outputId": "04ad27ce-9d36-4f71-a1dc-43fb0ab54e97"
      },
      "execution_count": null,
      "outputs": [
        {
          "output_type": "stream",
          "name": "stdout",
          "text": [
            "Mounted at /content/gdrive\n"
          ]
        }
      ]
    },
    {
      "cell_type": "code",
      "source": [
        "import os, sys\n",
        "\n",
        "os.environ[\"JAVA_HOME\"] = \"/usr/lib/jvm/java-8-openjdk-amd64\"\n",
        "os.environ[\"PATH\"] = os.environ[\"JAVA_HOME\"] + \"/bin:\" + os.environ[\"PATH\"]\n",
        "os.environ[\"SPARK_HOME\"] = \"/content/spark-3.3.2-bin-hadoop3\"\n",
        "\n",
        "os.environ[\"PYSPARK_DRIVER_PYTHON\"] = \"jupyter\"\n",
        "os.environ[\"PYSPARK_DRIVER_PYTHON_OPTS\"] = \"notebook\"\n",
        "os.environ[\"PYSPARK_SUBMIT_ARGS\"] = \"--packages graphframes:graphframes:0.8.2-spark3.2-s_2.12 pyspark-shell\""
      ],
      "metadata": {
        "id": "n8N1-YMtdIdP"
      },
      "execution_count": null,
      "outputs": []
    },
    {
      "cell_type": "code",
      "source": [
        "import findspark\n",
        "findspark.init()"
      ],
      "metadata": {
        "id": "n6Z8hzkMdMdR"
      },
      "execution_count": null,
      "outputs": []
    },
    {
      "cell_type": "code",
      "source": [
        "from pyspark.sql import SparkSession\n",
        "from graphframes import GraphFrame\n",
        "\n",
        "spark = SparkSession.builder.appName('Colab') \\\n",
        "    .config('spark.driver.memory', '16g') \\\n",
        "    .config('spark.executor.memory', '16g') \\\n",
        "    .config('spark.executor.cores', '8') \\\n",
        "    .config('spark.sql.shuffle.partitions', '100') \\\n",
        "    .getOrCreate()"
      ],
      "metadata": {
        "id": "4xkZiFu7z4cj"
      },
      "execution_count": null,
      "outputs": []
    },
    {
      "cell_type": "code",
      "source": [
        "spark.newSession()"
      ],
      "metadata": {
        "colab": {
          "base_uri": "https://localhost:8080/",
          "height": 219
        },
        "id": "qosMLdz6Lmmm",
        "outputId": "cbfe34e0-b0c1-47bd-c5f7-18a16dea807c"
      },
      "execution_count": null,
      "outputs": [
        {
          "output_type": "execute_result",
          "data": {
            "text/plain": [
              "<pyspark.sql.session.SparkSession at 0x7f4120f001f0>"
            ],
            "text/html": [
              "\n",
              "            <div>\n",
              "                <p><b>SparkSession - in-memory</b></p>\n",
              "                \n",
              "        <div>\n",
              "            <p><b>SparkContext</b></p>\n",
              "\n",
              "            <p><a href=\"http://5714341f0602:4040\">Spark UI</a></p>\n",
              "\n",
              "            <dl>\n",
              "              <dt>Version</dt>\n",
              "                <dd><code>v3.3.2</code></dd>\n",
              "              <dt>Master</dt>\n",
              "                <dd><code>local[*]</code></dd>\n",
              "              <dt>AppName</dt>\n",
              "                <dd><code>Colab</code></dd>\n",
              "            </dl>\n",
              "        </div>\n",
              "        \n",
              "            </div>\n",
              "        "
            ]
          },
          "metadata": {},
          "execution_count": 14
        }
      ]
    },
    {
      "cell_type": "code",
      "source": [],
      "metadata": {
        "id": "2LAXMHtGLlSb"
      },
      "execution_count": null,
      "outputs": []
    },
    {
      "cell_type": "code",
      "source": [],
      "metadata": {
        "id": "dP_ik--VLlcx"
      },
      "execution_count": null,
      "outputs": []
    },
    {
      "cell_type": "code",
      "source": [
        "#import of the developed module functions:\n",
        "%cd /content/gdrive/MyDrive/fiverrentity/data/\n",
        "import datasets\n",
        "sys.path.insert(0,'/content/gdrive/MyDrive/fiverrentity/')\n",
        "  \n",
        "\n",
        "#Path for the source datasets:\n",
        "path=\"/content/gdrive/MyDrive/Colab Notebooks/data/\""
      ],
      "metadata": {
        "colab": {
          "base_uri": "https://localhost:8080/"
        },
        "id": "jTD3HwxfnZB2",
        "outputId": "2477a69e-084c-4653-f324-a74fcc1b071a"
      },
      "execution_count": null,
      "outputs": [
        {
          "output_type": "stream",
          "name": "stdout",
          "text": [
            "/content/gdrive/MyDrive/fiverrentity/data\n"
          ]
        }
      ]
    },
    {
      "cell_type": "markdown",
      "source": [
        "Loading Datasets"
      ],
      "metadata": {
        "id": "YL15XEnYPwxO"
      }
    },
    {
      "cell_type": "code",
      "source": [
        "path=\"/content/gdrive/MyDrive/fiverrentity/data/\"\n",
        "\n",
        "mappings=datasets.load_data_mapping(spark, path)\n",
        "df1=datasets.load_data_amazon(spark, path) \n",
        "df2=datasets.load_data_google(spark, path)"
      ],
      "metadata": {
        "id": "MkFnHIelZzmK"
      },
      "execution_count": null,
      "outputs": []
    },
    {
      "cell_type": "code",
      "source": [
        "# Join both product lists:\n",
        "from pyspark.sql.functions import desc \n",
        "source= df1.union(df2)\n",
        "source = source.limit(2500)\n",
        "test = source.orderBy(desc(\"id\")).limit(1500)"
      ],
      "metadata": {
        "id": "aFcM-eLWYuUB"
      },
      "execution_count": null,
      "outputs": []
    },
    {
      "cell_type": "code",
      "source": [
        "type(source)"
      ],
      "metadata": {
        "colab": {
          "base_uri": "https://localhost:8080/"
        },
        "id": "u4IyLyr-48zJ",
        "outputId": "bf53671e-1e52-42f1-fb80-ef56556eabdc"
      },
      "execution_count": null,
      "outputs": [
        {
          "output_type": "execute_result",
          "data": {
            "text/plain": [
              "pyspark.sql.dataframe.DataFrame"
            ]
          },
          "metadata": {},
          "execution_count": 88
        }
      ]
    },
    {
      "cell_type": "markdown",
      "source": [
        "Tokenization:"
      ],
      "metadata": {
        "id": "ryPzlxZYP2q2"
      }
    },
    {
      "cell_type": "code",
      "source": [
        "import transformer\n",
        "blocking_df= transformer.tokenize(source, [\"description\", \"title\"])\n",
        "blocking_df_test= transformer.tokenize(source, [\"description\", \"title\"])\n",
        "\n",
        "# blocking_df = transformers.tfidf_top_tokens(blocking_df, [c+'_swRemoved' for c in ['title', 'description']])"
      ],
      "metadata": {
        "id": "pk3vgrr4xNu2"
      },
      "execution_count": null,
      "outputs": []
    },
    {
      "cell_type": "markdown",
      "source": [
        "By tokenizing the text in the \"description\" and \"title\" columns of the source DataFrame, you are creating new features that may be useful for downstream tasks such as classification "
      ],
      "metadata": {
        "id": "-9OAO-xbGA5d"
      }
    },
    {
      "cell_type": "markdown",
      "source": [
        "**Blocking functions**\n",
        "\n",
        "Definitions for transformation of the text into tokens and their normalization "
      ],
      "metadata": {
        "id": "L-LHSOoYN4-7"
      }
    },
    {
      "cell_type": "code",
      "source": [
        "from pyspark.sql import functions as f\n",
        "from pyspark.sql import types as t\n",
        "from pyspark.sql import Window as w\n",
        "\n",
        "from pyspark.ml.linalg import DenseVector, SparseVector\n",
        "from pyspark.ml.feature import HashingTF, IDF, Tokenizer, RegexTokenizer, CountVectorizer, StopWordsRemover, NGram, Normalizer, VectorAssembler, Word2Vec, Word2VecModel, PCA\n",
        "from pyspark.ml import Pipeline, Transformer\n",
        "from pyspark.ml.linalg import VectorUDT, Vectors\n",
        "import tensorflow_hub as hub\n",
        "from pyspark.sql.functions import udf\n",
        "\n",
        "def top_kw_from_tfidf(vocab, n=3):\n",
        "  @udf(returnType=t.ArrayType(t.StringType()))\n",
        "  def _(arr):\n",
        "    inds = arr.indices\n",
        "    vals = arr.values\n",
        "    top_inds = vals.argsort()[-n:][::-1]\n",
        "    top_keys = inds[top_inds]\n",
        "    output = []\n",
        "\n",
        "    for k in top_keys:\n",
        "      kw = vocab.value[k]\n",
        "      output.append(kw)\n",
        "\n",
        "    return output\n",
        "  return _\n",
        "\n",
        "def tfidf_top_tokens(df, token_cols, min_freq=1):\n",
        "  output = df\n",
        "  for c in token_cols:\n",
        "    pre = c\n",
        "    cv = CountVectorizer(inputCol=pre, outputCol=pre+'_rawFeatures', minDF=min_freq)\n",
        "    idf = IDF(inputCol=pre+\"_rawFeatures\", outputCol=pre+\"_features\", minDocFreq=min_freq)\n",
        "    normalizer = Normalizer(p=2.0, inputCol=pre+\"_features\", outputCol=pre+'_tfidf')\n",
        "    stages = [cv, idf, normalizer]\n",
        "    pipeline = Pipeline(stages=stages)\n",
        "    model = pipeline.fit(output)\n",
        "    output = model.transform(output)\\\n",
        "      .drop(pre+'_rawFeatures', pre+'_features')\n",
        "    \n",
        "    cvModel = model.stages[0]\n",
        "    vocab = spark.sparkContext.broadcast(cvModel.vocabulary)\n",
        "    output = output.withColumn(pre+'_top_tokens', top_kw_from_tfidf(vocab, n=5)(f.col(pre+\"_tfidf\")))\n",
        "  \n",
        "  return output\n",
        "      \n",
        "\n",
        "# magic function to load model only once per executor\n",
        "MODEL = None\n",
        "def get_model_magic():\n",
        "  global MODEL\n",
        "  if MODEL is None:\n",
        "      MODEL = hub.load(\"https://tfhub.dev/google/universal-sentence-encoder/4\")\n",
        "  return MODEL\n",
        "\n",
        "@udf(returnType=VectorUDT())\n",
        "def encode_sentence(x):\n",
        "  model = get_model_magic()\n",
        "  emb = model([x]).numpy()[0]\n",
        "  return Vectors.dense(emb)\n",
        "\n",
        "\n"
      ],
      "metadata": {
        "id": "_C1Z3RQ-FzNn"
      },
      "execution_count": null,
      "outputs": []
    },
    {
      "cell_type": "markdown",
      "source": [
        "Apply normalization to tokens:"
      ],
      "metadata": {
        "id": "dr8V4Hz-OKAB"
      }
    },
    {
      "cell_type": "code",
      "source": [
        "blocking_df = tfidf_top_tokens(blocking_df, [c+'_swRemoved' for c in ['title', 'description']])\n",
        "blocking_df_test = tfidf_top_tokens(blocking_df_test, [c+'_swRemoved' for c in ['title', 'description']])\n"
      ],
      "metadata": {
        "id": "bLtf-pneOJZU"
      },
      "execution_count": null,
      "outputs": []
    },
    {
      "cell_type": "markdown",
      "source": [
        " these imports are required to perform text preprocessing and feature engineering tasks on a PySpark DataFrame, such as tokenization, stop word removal, and TF-IDF vectorization, to prepare the data for a machine learning model."
      ],
      "metadata": {
        "id": "-_44oz7qpv3K"
      }
    },
    {
      "cell_type": "markdown",
      "source": [
        "Generate blocking keys"
      ],
      "metadata": {
        "id": "fB_3p0NeQVM3"
      }
    },
    {
      "cell_type": "code",
      "source": [
        "keep_cols = ['id','source', 'title', 'description',   'price',\n",
        "              'title_swRemoved', 'description_swRemoved',  \n",
        "             'title_swRemoved_tfidf', 'description_swRemoved_tfidf', \n",
        "             'title_encoding', 'description_encoding']\n",
        "LARGEST_BLOCK = 5\n",
        "\n",
        "# from spark_matcher.data import cand_pairs\n",
        "# blok=cand_pairs.generate_pairs(blok, keep_cols, LARGEST_BLOCK)\n",
        "\n",
        "from pyspark.sql import functions as f\n",
        "blocking_df = blocking_df.withColumn('title_encoding', encode_sentence(f.coalesce(f.col('title'), f.lit(''))))\\\n",
        "  .withColumn('description_encoding', encode_sentence(f.coalesce(f.col('description'), f.lit(''))))\\\n",
        "  .withColumn('blocking_keys',\n",
        "               f.array_union(f.col('title_swRemoved_top_tokens'), f.array_union(f.col('description_swRemoved_top_tokens'), f.col('title_swRemoved_top_tokens')))\n",
        "             ) \n",
        "blocking_df_test = blocking_df_test.withColumn('title_encoding', encode_sentence(f.coalesce(f.col('title'), f.lit(''))))\\\n",
        "  .withColumn('description_encoding', encode_sentence(f.coalesce(f.col('description'), f.lit(''))))\\\n",
        "  .withColumn('blocking_keys',\n",
        "               f.array_union(f.col('title_swRemoved_top_tokens'), f.array_union(f.col('description_swRemoved_top_tokens'), f.col('title_swRemoved_top_tokens')))\n",
        "             ) "
      ],
      "metadata": {
        "id": "ijwuGEnTcHAK"
      },
      "execution_count": null,
      "outputs": []
    },
    {
      "cell_type": "markdown",
      "source": [
        "This code is preparing the data for blocking, which is the process of grouping similar records together before applying the matching algorithm. The goal of blocking is to reduce the search space and improve the efficiency of the matching algorithm.\n",
        "\n"
      ],
      "metadata": {
        "id": "7Jy9RyXetddD"
      }
    },
    {
      "cell_type": "markdown",
      "source": [],
      "metadata": {
        "id": "SFu3DNfItTfT"
      }
    },
    {
      "cell_type": "code",
      "source": [
        "blocking_df.show(5)"
      ],
      "metadata": {
        "id": "8cYlOY2sBQvX",
        "colab": {
          "base_uri": "https://localhost:8080/"
        },
        "outputId": "96558655-80c1-4d21-dc20-f864cd2fc41e"
      },
      "execution_count": null,
      "outputs": [
        {
          "output_type": "stream",
          "name": "stdout",
          "text": [
            "+----------+--------------------+--------------------+------+------+---------------------+--------------------+---------------------+--------------------------+---------------------------+--------------------------------+--------------------+--------------------+--------------------+\n",
            "|        id|               title|         description| price|source|description_swRemoved|     title_swRemoved|title_swRemoved_tfidf|title_swRemoved_top_tokens|description_swRemoved_tfidf|description_swRemoved_top_tokens|      title_encoding|description_encoding|       blocking_keys|\n",
            "+----------+--------------------+--------------------+------+------+---------------------+--------------------+---------------------+--------------------------+---------------------------+--------------------------------+--------------------+--------------------+--------------------+\n",
            "|b000jz4hqo|clickart 950 000 ...|                null|     0|Amazon|                   []|[clickart, 950, 0...| (2271,[19,40,114,...|      [950, image, brod...|              (10522,[],[])|                              []|[-0.0146318702027...|[-0.0356568209826...|[950, image, brod...|\n",
            "|b0006zf55o|ca international ...|oem arcserve back...|     0|Amazon| [oem, arcserve, b...|[ca, internationa...| (2271,[68,76,78,1...|      [lap, 30pkcompute...|       (10522,[122,338,5...|            [30u, v11, oem, d...|[0.02308499068021...|[0.01004899293184...|[lap, 30pkcompute...|\n",
            "|b00004tkvy|noah's ark activi...|                null|     0|Amazon|                   []|[noah, ark, activ...| (2271,[8,15,16,67...|      [ark, noah, activ...|              (10522,[],[])|                              []|[-0.0193627811968...|[-0.0356568209826...|[ark, noah, activ...|\n",
            "|b000g80lqo|peachtree by sage...|peachtree premium...|599.99|Amazon| [peachtree, premi...|[peachtree, sage,...| (2271,[0,35,301,3...|      [2007sage, nonpro...|       (10522,[6,9,13,15...|            [accounting, peac...|[0.02944790013134...|[-0.0336889736354...|[2007sage, nonpro...|\n",
            "|b0006se5bq|singing coach unl...|singing coach unl...| 99.99|Amazon| [singing, coach, ...|[singing, coach, ...| (2271,[90,1010,15...|      [singing, tune, c...|       (10522,[121,157,2...|            [singing, coach, ...|[0.03013608232140...|[-0.0058758887462...|[singing, tune, c...|\n",
            "+----------+--------------------+--------------------+------+------+---------------------+--------------------+---------------------+--------------------------+---------------------------+--------------------------------+--------------------+--------------------+--------------------+\n",
            "only showing top 5 rows\n",
            "\n"
          ]
        }
      ]
    },
    {
      "cell_type": "code",
      "source": [
        "blocking_df.count()"
      ],
      "metadata": {
        "colab": {
          "base_uri": "https://localhost:8080/"
        },
        "id": "oT7Xluhd-DI9",
        "outputId": "b141cc30-b051-4230-ce93-8d5f02024401"
      },
      "execution_count": null,
      "outputs": [
        {
          "output_type": "execute_result",
          "data": {
            "text/plain": [
              "4589"
            ]
          },
          "metadata": {},
          "execution_count": 111
        }
      ]
    },
    {
      "cell_type": "markdown",
      "source": [
        "generate candidate pairs"
      ],
      "metadata": {
        "id": "57HGwez8Q7xB"
      }
    },
    {
      "cell_type": "code",
      "source": [
        "keep_cols = ['id','source', 'title', 'description',  'price',\n",
        "              'title_swRemoved', 'description_swRemoved',  \n",
        "             'title_swRemoved_tfidf', 'description_swRemoved_tfidf',  \n",
        "             'title_encoding', 'description_encoding']\n",
        " \n",
        "LARGEST_BLOCK = 5\n",
        "\n",
        "node = blocking_df.select(keep_cols)\n",
        "node_test = blocking_df_test.select(keep_cols)\n",
        "keep_pairs = blocking_df.select(f.explode('blocking_keys').alias('blocking_key'), 'id','source')\\\n",
        "  .groupBy('blocking_key')\\\n",
        "  .agg(\n",
        "    f.count('id').alias('block_size'),\n",
        "    f.countDistinct('source').alias('diff_source_cnt'),\n",
        "    f.collect_set('id').alias('id'),\n",
        "  )\\\n",
        "  .filter(f.col('block_size').between(2,LARGEST_BLOCK))\\\n",
        "  .select('blocking_key', f.explode('id').alias('id'))\\\n",
        "  .filter(f.col('diff_source_cnt') >1)\n",
        "\n",
        "left = keep_pairs.withColumnRenamed('id', 'src')\n",
        "right = keep_pairs.withColumnRenamed('id', 'dst')\n",
        "\n",
        "candidate_pairs = left.join(right, ['blocking_key'], 'inner')\\\n",
        "  .filter(f.col('src') != f.col('dst'))\\\n",
        "  .select('src', 'dst')\\\n",
        "  .distinct()\n"
      ],
      "metadata": {
        "id": "hdATq4uYaE3d"
      },
      "execution_count": null,
      "outputs": []
    },
    {
      "cell_type": "markdown",
      "source": [
        "The code above is creating candidate pairs of listings that may match based on shared blocking keys. The keep_cols variable defines the columns to keep in the output, which include the listing ID, source, title, description, price, title and description with stop words removed, title and description with stop words removed and represented as TF-IDF vectors, and title and description encoded using the Universal Sentence Encoder."
      ],
      "metadata": {
        "id": "p9rMGK4QtwpY"
      }
    },
    {
      "cell_type": "code",
      "source": [
        "keep_pairs_test = blocking_df_test.select(f.explode('blocking_keys').alias('blocking_key'), 'id','source')\\\n",
        "  .groupBy('blocking_key')\\\n",
        "  .agg(\n",
        "    f.count('id').alias('block_size'),\n",
        "    f.countDistinct('source').alias('diff_source_cnt'),\n",
        "    f.collect_set('id').alias('id'),\n",
        "  )\\\n",
        "  .filter(f.col('block_size').between(2,LARGEST_BLOCK))\\\n",
        "  .select('blocking_key', f.explode('id').alias('id'))\\\n",
        "  .filter(f.col('diff_source_cnt') >1)\n",
        "\n",
        "left_test = keep_pairs_test.withColumnRenamed('id', 'src')\n",
        "right_test = keep_pairs_test.withColumnRenamed('id', 'dst')\n",
        "\n",
        "candidate_pairs_test = left_test.join(right_test, ['blocking_key'], 'inner')\\\n",
        "  .filter(f.col('src') != f.col('dst'))\\\n",
        "  .select('src', 'dst')\\\n",
        "  .distinct()"
      ],
      "metadata": {
        "id": "g8LEiDdS8scl"
      },
      "execution_count": null,
      "outputs": []
    },
    {
      "cell_type": "markdown",
      "source": [
        "**Create graph dataframe**"
      ],
      "metadata": {
        "id": "CGHtRIc3Rcol"
      }
    },
    {
      "cell_type": "code",
      "source": [
        "from graphframes import GraphFrame\n",
        "g = GraphFrame(node, candidate_pairs)\n",
        "g_test=GraphFrame(node_test,candidate_pairs_test)"
      ],
      "metadata": {
        "id": "Wourq0bo94YL",
        "colab": {
          "base_uri": "https://localhost:8080/"
        },
        "outputId": "6ea9aa37-12f0-4965-a8b9-480fcff1848b"
      },
      "execution_count": null,
      "outputs": [
        {
          "output_type": "stream",
          "name": "stderr",
          "text": [
            "/content/spark-3.3.2-bin-hadoop3/python/pyspark/sql/dataframe.py:148: UserWarning: DataFrame.sql_ctx is an internal property, and will be removed in future releases. Use DataFrame.sparkSession instead.\n",
            "  warnings.warn(\n"
          ]
        }
      ]
    },
    {
      "cell_type": "code",
      "source": [
        "node.show()"
      ],
      "metadata": {
        "colab": {
          "base_uri": "https://localhost:8080/"
        },
        "id": "5KRJdho-e5z9",
        "outputId": "a2ec2ef1-cfa3-4993-8a8a-54e67b6a7a2b"
      },
      "execution_count": null,
      "outputs": [
        {
          "output_type": "stream",
          "name": "stdout",
          "text": [
            "+----------+------+--------------------+--------------------+------+--------------------+---------------------+---------------------+---------------------------+--------------------+--------------------+\n",
            "|        id|source|               title|         description| price|     title_swRemoved|description_swRemoved|title_swRemoved_tfidf|description_swRemoved_tfidf|      title_encoding|description_encoding|\n",
            "+----------+------+--------------------+--------------------+------+--------------------+---------------------+---------------------+---------------------------+--------------------+--------------------+\n",
            "|b000jz4hqo|Amazon|clickart 950 000 ...|                null|     0|[clickart, 950, 0...|                   []| (2271,[19,40,114,...|              (10522,[],[])|[-0.0146318702027...|[-0.0356568209826...|\n",
            "|b0006zf55o|Amazon|ca international ...|oem arcserve back...|     0|[ca, internationa...| [oem, arcserve, b...| (2271,[68,76,78,1...|       (10522,[122,338,5...|[0.02308499068021...|[0.01004899293184...|\n",
            "|b00004tkvy|Amazon|noah's ark activi...|                null|     0|[noah, ark, activ...|                   []| (2271,[8,15,16,67...|              (10522,[],[])|[-0.0193627811968...|[-0.0356568209826...|\n",
            "|b000g80lqo|Amazon|peachtree by sage...|peachtree premium...|599.99|[peachtree, sage,...| [peachtree, premi...| (2271,[0,35,301,3...|       (10522,[6,9,13,15...|[0.02944790013134...|[-0.0336889736354...|\n",
            "|b0006se5bq|Amazon|singing coach unl...|singing coach unl...| 99.99|[singing, coach, ...| [singing, coach, ...| (2271,[90,1010,15...|       (10522,[121,157,2...|[0.03013608232140...|[-0.0058758887462...|\n",
            "|b000ehpzv8|Amazon|emc retrospect 7....|emc retrospect 7....|     0|[emc, retrospect,...| [emc, retrospect,...| (2271,[10,27,194,...|       (10522,[174,291,4...|[0.02124069817364...|[0.03308048471808...|\n",
            "|b00021xhzw|Amazon|adobe after effec...|upgrade only; ins...|499.99|[adobe, effects, ...| [upgrade, install...| (2271,[2,10,13,26...|       (10522,[0,2,3,5,8...|[0.03094462864100...|[7.79358728323131...|\n",
            "|b000gzwjgc|Amazon|acad upgrade drag...|- marketing infor...|399.54|[acad, upgrade, d...| [marketing, infor...| (2271,[6,11,13,15...|       (10522,[4,8,9,11,...|[0.06020405143499...|[-0.0421470552682...|\n",
            "|b0000dbykm|Amazon|mia's math advent...|in mia's math adv...| 19.99|[mia, math, adven...| [mia, math, adven...| (2271,[55,95,1548...|       (10522,[12,19,55,...|[0.01490692328661...|[0.02390373870730...|\n",
            "|b00029bqa2|Amazon|disney's 1st & 2n...|disney's 1st & 2n...| 14.99|[disney, 1st, 2nd...| [disney, 1st, 2nd...| (2271,[54,92,280,...|       (10522,[13,55,157...|[0.03546622768044...|[0.03839698806405...|\n",
            "|b0007prnjo|Amazon|paper art: gift w...|how many times ha...|     0|[paper, art, gift...| [many, times, hea...| (2271,[7,12,133,1...|       (10522,[3,10,16,3...|[-0.0087919430807...|[-0.0482183396816...|\n",
            "|b000aazr5i|Amazon|nfs maestro solo ...|- marketing infor...|309.56|[nfs, maestro, so...| [marketing, infor...| (2271,[56,98,394,...|       (10522,[2,4,10,13...|[0.04920393228530...|[0.04365919530391...|\n",
            "|b000bhl1r8|Amazon|microsoft sql ser...|sql server is a c...|  1849|[microsoft, sql, ...| [sql, server, com...| (2271,[3,10,19,24...|       (10522,[3,12,23,4...|[0.02966467104852...|[-0.0195634495466...|\n",
            "|b000i82j80|Amazon|spy sweeper spani...|                null| 29.95|[spy, sweeper, sp...|                   []| (2271,[0,203,266,...|              (10522,[],[])|[0.04524562507867...|[-0.0356568209826...|\n",
            "|b00006hmwc|Amazon|domino designer/d...|reference domino ...|    95|[domino, designer...| [reference, domin...| (2271,[58,233,511...|       (10522,[12,76,83,...|[0.06706015765666...|[0.04842671379446...|\n",
            "|b000in6u62|Amazon|omnioutliner prof...|                null| 69.95|[omnioutliner, pr...|                   []| (2271,[8,26,1720,...|              (10522,[],[])|[0.06662274897098...|[-0.0356568209826...|\n",
            "|b000083k56|Amazon|compaq comp. secu...|                null|     0|[compaq, comp, se...|                   []| (2271,[86,116,151...|              (10522,[],[])|[-0.0141612077131...|[-0.0356568209826...|\n",
            "|b00006hvvo|Amazon|upg sgms 1000 inc...|today enterprises...|     0|[upg, sgms, 1000,...| [today, enterpris...| (2271,[7,49,175,6...|       (10522,[3,15,19,2...|[0.06202484667301...|[-0.0109827499836...|\n",
            "|b0000ycfcw|Amazon|the human bodytop...|in topics present...| 19.99|[human, bodytopic...| [topics, presents...| (2271,[4,599,1102...|       (10522,[62,104,11...|[-0.0156325101852...|[-0.0646089017391...|\n",
            "|b00066dd5m|Amazon|school zone penci...|                null|     0|[school, zone, pe...|                   []| (2271,[0,41,47,11...|              (10522,[],[])|[0.05469650775194...|[-0.0356568209826...|\n",
            "+----------+------+--------------------+--------------------+------+--------------------+---------------------+---------------------+---------------------------+--------------------+--------------------+\n",
            "only showing top 20 rows\n",
            "\n"
          ]
        }
      ]
    },
    {
      "cell_type": "markdown",
      "source": [
        "**Definitions for similarity calculation**\n",
        "\n",
        "> Bloc en retrait\n",
        "\n"
      ],
      "metadata": {
        "id": "C9RVBNhCRXpj"
      }
    },
    {
      "cell_type": "markdown",
      "source": [],
      "metadata": {
        "id": "_S__ygyRRXmz"
      }
    },
    {
      "cell_type": "code",
      "source": [
        "from functools import reduce\n",
        "import operator"
      ],
      "metadata": {
        "id": "yoItpstahqjn"
      },
      "execution_count": null,
      "outputs": []
    },
    {
      "cell_type": "code",
      "source": [
        "@udf(\"double\")\n",
        "def dot(x, y):\n",
        "  if x is not None and y is not None:\n",
        "    return float(x.dot(y))\n",
        "  else:\n",
        "    return 0\n",
        "  \n",
        "def null_safe_levenshtein_sim(c1, c2):\n",
        "  output = f.when(f.col(c1).isNull() | f.col(c2).isNull(), 0)\\\n",
        "            .otherwise(1 - f.levenshtein(c1, c2) / f.greatest(f.length(c1), f.length(c2)))\n",
        "  return output\n",
        "\n",
        "def null_safe_num_sim(c1, c2):\n",
        "  output = f.when(f.col(c1).isNull() | f.col(c2).isNull(), 0)\\\n",
        "            .when((f.col(c1) == 0) & (f.col(c2) == 0), 1)\\\n",
        "            .when((f.col(c1) == 0) | (f.col(c2) == 0), 0)\\\n",
        "            .otherwise(1 - f.abs(f.col(c1) - f.col(c2)) / f.greatest(c1, c2))\n",
        "  return output\n",
        "\n",
        "def null_safe_token_overlap(c1, c2):\n",
        "  # is the overlap a significant part of the shorter string\n",
        "  output = f.when(f.col(c1).isNull() | f.col(c2).isNull(), 0)\\\n",
        "            .when((f.size(f.array_distinct(c1)) == 0) | (f.size(f.array_distinct(c2)) == 0), 0)\\\n",
        "            .otherwise(f.size(f.array_intersect(c1, c2)) / f.least(f.size(f.array_distinct(c1)), f.size(f.array_distinct(c1))))\n",
        "  return output\n",
        "\n",
        "def calc_sim(df):\n",
        "  df = df.withColumn('title_lev', null_safe_levenshtein_sim('src.title', 'dst.title'))\\\n",
        "      .withColumn('description_lev', null_safe_levenshtein_sim('src.description', 'dst.description'))\\\n",
        "      .withColumn('title_token_sim', null_safe_token_overlap('src.title_swRemoved', 'dst.title_swRemoved'))\\\n",
        "      .withColumn('description_token_sim', null_safe_token_overlap('src.description_swRemoved', 'dst.description_swRemoved'))\\\n",
        "      .withColumn('price_sim', null_safe_num_sim('src.price', 'dst.price'))\\\n",
        "      .withColumn('title_tfidf_sim', dot(f.col('src.title_swRemoved_tfidf'), f.col('dst.title_swRemoved_tfidf')))\\\n",
        "      .withColumn('description_tfidf_sim', dot(f.col('src.description_swRemoved_tfidf'), f.col('dst.description_swRemoved_tfidf')))\\\n",
        "      .withColumn('title_encoding_sim', dot(f.col('src.title_encoding'), f.col('dst.title_encoding')))\\\n",
        "      .withColumn('description_encoding_sim', dot(f.col('src.description_encoding'), f.col('dst.description_encoding')))\n",
        "  \n",
        "  metrics = ['description_lev', 'title_lev', 'price_sim', 'title_tfidf_sim', 'description_tfidf_sim',\n",
        "             'title_encoding_sim', 'description_encoding_sim',\n",
        "             'title_token_sim', 'description_token_sim'\n",
        "            ]\n",
        "  \n",
        "  df = df.withColumn('overall_sim', reduce(operator.add, [f.col(c) for c in metrics]) / len(metrics))\n",
        "  return df\n",
        "\n",
        "\n",
        "distance_df = calc_sim(g.triplets)\n",
        "distance_df_test = calc_sim(g_test.triplets)\n",
        "\n"
      ],
      "metadata": {
        "id": "oSmSuwtLJYZC",
        "colab": {
          "base_uri": "https://localhost:8080/"
        },
        "outputId": "b0a9f75a-b5c0-4bbb-85a8-75e0c137244b"
      },
      "execution_count": null,
      "outputs": [
        {
          "output_type": "stream",
          "name": "stderr",
          "text": [
            "/content/spark-3.3.2-bin-hadoop3/python/pyspark/sql/dataframe.py:127: UserWarning: DataFrame constructor is internal. Do not directly use it.\n",
            "  warnings.warn(\"DataFrame constructor is internal. Do not directly use it.\")\n"
          ]
        }
      ]
    },
    {
      "cell_type": "code",
      "source": [
        "distance_df.show()"
      ],
      "metadata": {
        "colab": {
          "base_uri": "https://localhost:8080/"
        },
        "id": "G2rCCaT7gy8n",
        "outputId": "52289b74-2dfe-494a-abb9-7c63661bf61b"
      },
      "execution_count": null,
      "outputs": [
        {
          "output_type": "stream",
          "name": "stdout",
          "text": [
            "+--------------------+--------------------+--------------------+-------------------+--------------------+------------------+---------------------+--------------------+-------------------+---------------------+--------------------+------------------------+--------------------+\n",
            "|                 src|                edge|                 dst|          title_lev|     description_lev|   title_token_sim|description_token_sim|           price_sim|    title_tfidf_sim|description_tfidf_sim|  title_encoding_sim|description_encoding_sim|         overall_sim|\n",
            "+--------------------+--------------------+--------------------+-------------------+--------------------+------------------+---------------------+--------------------+-------------------+---------------------+--------------------+------------------------+--------------------+\n",
            "|{b0001na35s, Amaz...|{b0001na35s, http...|{http://www.googl...|                0.0|  0.1935081148564295|               0.0| 0.014925373134328358|0.051489971346704966|                0.0| 0.024910529136119266|-0.00309528121743...|     0.17784104442215187| 0.05106441685314389|\n",
            "|{http://www.googl...|{http://www.googl...|{b000bp8alk, Amaz...|                0.0| 0.19762845849802368|               0.0|  0.10714285714285714| -2.2879611095224477|                0.0|   0.1194838444716371|-0.07553007798534081|      0.3382975364915937|-0.17788205454485295|\n",
            "|{b000hlp64w, Amaz...|{b000hlp64w, b000...|{b000trgqqg, Amaz...|            0.28125| 0.19915254237288138|               0.0|  0.07692307692307693|                 1.0|                0.0|  0.06651325464398694|0.056881788987152355|      0.3093080912876701|  0.2211143060238631|\n",
            "|{http://www.googl...|{http://www.googl...|{http://www.googl...|                0.0|  0.8008298755186722|               0.0|   0.9117647058823529|                 1.0|                0.0|   0.8977456565637962|  1.0000000713893984|      0.9677550424518941|  0.6197883724229016|\n",
            "|{b000hbysf0, Amaz...|{b000hbysf0, http...|{http://www.googl...|                0.0| 0.05064325096998157|               0.0|  0.03879310344827586|  0.9994999374921866|                0.0|  0.16462208280780166|-0.04513646825705334|      0.4399294124210321|  0.1831501465424694|\n",
            "|{b000hkgj8k, Amaz...|{b000hkgj8k, http...|{http://www.googl...|                0.0| 0.16194331983805665|               0.0|                  0.4|  -4.901981230448383|                0.0|  0.18208690348918258|-0.01498243041850384|     0.48162655624918405| -0.4101452090322738|\n",
            "|{b000hlp64w, Amaz...|{b000hlp64w, http...|{http://www.googl...|                0.0| 0.22033898305084743|               0.0|  0.07692307692307693|   0.324181169603286|                0.0|   0.3360057877909384|  0.0496972387387475|      0.3731316622897052| 0.15336421315517793|\n",
            "|{http://www.googl...|{http://www.googl...|{b000fabege, Amaz...|                0.0|  0.2894736842105263|               0.0|  0.14285714285714285| 0.08074476803915465|                0.0|  0.30363050681019754|-0.01904360186279...|      0.2230599020394114| 0.11341360023262619|\n",
            "|{b000nwsclo, Amaz...|{b000nwsclo, http...|{http://www.googl...|                0.0| 0.13387978142076506|               0.0| 0.032520325203252036|  0.8666547597785319|                0.0|  0.03167697546843866|  -0.043759820430031|      0.3781871482507051| 0.15546212996574021|\n",
            "|{http://www.googl...|{http://www.googl...|{b000gamysk, Amaz...|                0.0| 0.22946175637393773|               0.0|  0.08333333333333333| 0.22203700616769462|                0.0|  0.31677583281256316|-0.04311167439117236|      0.6390823190754799| 0.16084206370798182|\n",
            "|{b000mti8mq, Amaz...|{b000mti8mq, http...|{http://www.googl...|                0.0|  0.1203400915631131|               0.0| 0.014388489208633094| 0.05456848561618721|                0.0|  0.00944617772514918|-0.02874255734118...|     0.09375619959299085|0.029306320707209992|\n",
            "|{http://www.googl...|{http://www.googl...|{b000083k56, Amaz...|                0.0|                 0.0|               0.0|                  0.0|                 0.0|                0.0|                  0.0|-0.00391814004727...|    -0.00973971338108...|-0.00151753926981...|\n",
            "|{b000i3g30k, Amaz...|{b000i3g30k, http...|{http://www.googl...|0.17647058823529416| 0.01931200965600488|               0.0|  0.01652892561983471| -3.3647556752597163|                0.0|  0.13683230302191826| 0.09811011724096227|      0.3172441065597255|-0.28891751388066406|\n",
            "|{http://www.googl...|{http://www.googl...|{http://www.googl...|                0.0| 0.44907407407407407|               0.0|  0.21739130434782608|  0.5202329648723724|                0.0|   0.1518661236029923|  1.0000000713893984|      0.3000437730104394|  0.2931787012552336|\n",
            "|{b0000y7wc0, Amaz...|{b0000y7wc0, http...|{http://www.googl...|0.49275362318840576|0.028840125391849547|               0.6| 0.030927835051546393|                 0.0|0.47263452496936975|   0.3319138305837952|  0.7726459569548003|      0.4286650264663766| 0.35093121362290486|\n",
            "|{http://www.googl...|{http://www.googl...|{b000ml8d5q, Amaz...|                0.0|  0.5299334811529933|               0.0|                  1.0|  0.8779389694847425|                0.0|    0.812859152171614|0.002355484709651...|       0.857283717689967|  0.4533745339121076|\n",
            "|{b000b3z2zo, Amaz...|{b000b3z2zo, b000...|{b000rwdd9q, Amaz...| 0.9807692307692307| 0.28727272727272724|0.8333333333333334|  0.16541353383458646|                 1.0|  0.912240395951476|  0.22644937651576427|   0.925054673088567|      0.6279688430025229|  0.6620557904186897|\n",
            "|{b000ema3zq, Amaz...|{b000ema3zq, b000...|{b000jj4fbw, Amaz...|               0.25| 0.26712328767123283|               0.2| 0.030303030303030304|  0.9979989994997499|0.28635434642533414|  0.01926622604089637|  0.4269588797424364|     0.07487584866187103|  0.2836534020382835|\n",
            "|{http://www.googl...|{http://www.googl...|{http://www.googl...|                0.0|               0.796|               0.0|   0.9545454545454546| 0.39999142844897784|                0.0|   0.9734050017801585|  1.0000000713893984|      0.9888407302411546|  0.5680869651561271|\n",
            "|{b000hcu7b8, Amaz...|{b000hcu7b8, http...|{http://www.googl...|                0.0|  0.2549450549450549|               0.0| 0.030303030303030304|  0.7352551845859686|                0.0|  0.09245432207422388|0.014731670409526164|     0.22673068977135125|  0.1504911057876839|\n",
            "+--------------------+--------------------+--------------------+-------------------+--------------------+------------------+---------------------+--------------------+-------------------+---------------------+--------------------+------------------------+--------------------+\n",
            "only showing top 20 rows\n",
            "\n"
          ]
        }
      ]
    },
    {
      "cell_type": "markdown",
      "source": [
        "The code defines several functions for calculating similarity measures between pairs of records, and applies them to a DataFrame containing pairs of records (triplets).The resulting distance_df and distance_df_test DataFrames contain the original triplets, as well as columns for each similarity measure and an overall similarity score. These DataFrames can be used to train and evaluate a matching model.\n"
      ],
      "metadata": {
        "id": "wPHl-ltgw31Z"
      }
    },
    {
      "cell_type": "markdown",
      "source": [
        "**Joining the information from the Perfect Mapping dataset**"
      ],
      "metadata": {
        "id": "DDAvXQNMRmDr"
      }
    },
    {
      "cell_type": "code",
      "source": [
        "from pyspark.sql.functions import col\n",
        " #create training data by joining with perfect matching information: \n",
        "distance_df2=distance_df.withColumn('src_id', f.col('edge.src'))\\\n",
        "             .withColumn('dst_id', f.col('edge.dst'))\\\n",
        "             .withColumn('diff_source', (f.col('src.source') != f.col('dst.source')).cast('integer'))\n",
        "\n",
        "cond=((distance_df2.src_id==mappings.idAmazon) & (distance_df2.dst_id==mappings.idGoogleBase)) |\\\n",
        "       ((distance_df2.src_id==mappings.idGoogleBase) & (distance_df2.dst_id==mappings.idAmazon)) \n",
        "\n",
        "distance_df3=distance_df2.join(mappings, on=cond, how='left').distinct()\\\n",
        "          .withColumn('mapped_flg',  f.coalesce((f.col('mapIF')>0).cast('integer'),f.lit(0)))\n",
        " "
      ],
      "metadata": {
        "id": "J-zdEElcUinQ"
      },
      "execution_count": null,
      "outputs": []
    },
    {
      "cell_type": "code",
      "source": [
        "distance_df2_test=distance_df_test.withColumn('src_id', f.col('edge.src'))\\\n",
        "             .withColumn('dst_id', f.col('edge.dst'))\\\n",
        "             .withColumn('diff_source', (f.col('src.source') != f.col('dst.source')).cast('integer'))\n",
        "\n",
        "cond=((distance_df2_test.src_id==mappings.idAmazon) & (distance_df2_test.dst_id==mappings.idGoogleBase)) |\\\n",
        "       ((distance_df2_test.src_id==mappings.idGoogleBase) & (distance_df2_test.dst_id==mappings.idAmazon)) \n",
        "\n",
        "distance_df3_test=distance_df2_test.join(mappings, on=cond, how='left').distinct()\\\n",
        "          .withColumn('mapped_flg',  f.coalesce((f.col('mapIF')>0).cast('integer'),f.lit(0)))"
      ],
      "metadata": {
        "id": "S2TWF7Wz966q"
      },
      "execution_count": null,
      "outputs": []
    },
    {
      "cell_type": "code",
      "source": [
        "# groupBy to check number of matched pairs:\n",
        "prop=distance_df3.groupBy(\"mapped_flg\").count()"
      ],
      "metadata": {
        "id": "0ctYiP8FfGuf"
      },
      "execution_count": null,
      "outputs": []
    },
    {
      "cell_type": "code",
      "source": [
        "prop.show()"
      ],
      "metadata": {
        "id": "Jb29yc6wQLek",
        "colab": {
          "base_uri": "https://localhost:8080/"
        },
        "outputId": "437f38d5-1828-492e-952d-99198a54e665"
      },
      "execution_count": null,
      "outputs": [
        {
          "output_type": "stream",
          "name": "stdout",
          "text": [
            "+----------+-----+\n",
            "|mapped_flg|count|\n",
            "+----------+-----+\n",
            "|         1|  366|\n",
            "|         0| 4392|\n",
            "+----------+-----+\n",
            "\n"
          ]
        }
      ]
    },
    {
      "cell_type": "markdown",
      "source": [
        "**Creating dataframe for supervised modeling**"
      ],
      "metadata": {
        "id": "_lWLfJOORyI9"
      }
    },
    {
      "cell_type": "code",
      "source": [
        "features = ['description_lev', 'title_lev', 'price_sim',\n",
        "            'title_tfidf_sim', 'description_tfidf_sim', \n",
        "            'title_token_sim', 'description_token_sim',\n",
        "            'title_encoding_sim', 'description_encoding_sim']\n",
        "from pyspark.ml.feature import StringIndexer\n",
        "\n",
        "df_m = distance_df3\n",
        "df_m_test = distance_df3_test\n",
        "\n",
        "# assemble the vectors to make a final feature set\n",
        "# feature_df = feature_df.withColumn('features', f.array(*[f.col(c) for c in features]))\n",
        "\n",
        "assembler= VectorAssembler(inputCols= ['imputed_{}'.format(item) for item in features],\n",
        "                           outputCol= \"features\",\n",
        "                           handleInvalid=\"keep\")\n",
        "\n",
        "assembler = VectorAssembler(inputCols=features, outputCol=\"features\")\n",
        "df_m = assembler.transform(df_m)\n",
        "df_m_test = assembler.transform(df_m_test)"
      ],
      "metadata": {
        "id": "w-BlLJspJGlx"
      },
      "execution_count": null,
      "outputs": []
    },
    {
      "cell_type": "code",
      "source": [],
      "metadata": {
        "id": "wCITqTK1A_6R"
      },
      "execution_count": null,
      "outputs": []
    },
    {
      "cell_type": "markdown",
      "source": [
        "**Training of the model**"
      ],
      "metadata": {
        "id": "9ZtU3CDtSJkl"
      }
    },
    {
      "cell_type": "code",
      "source": [
        "from pyspark.ml.classification import RandomForestClassifier\n",
        "# param_grid = {'n_estimators': [50, 75, 100], 'max_depth': [11, 12, 13], 'max_features': ['log2', 'sqrt', None]}\n",
        "\n",
        "rf = RandomForestClassifier(featuresCol = 'features', labelCol = 'mapped_flg', seed=1)\n",
        "rf.setFeaturesCol(\"features\")\n",
        "\n",
        "# Taking 70% of both 0's and 1's into training set\n",
        "train = df_m.sampleBy(\"mapped_flg\", fractions={0: 0.5, 1: 0.8}, seed=10)\n",
        "\n",
        " # Subtracting 'train' from original 'data' to get test set \n",
        "test = df_m_test.sampleBy(\"mapped_flg\", fractions={0: 0.5, 1: 0.8}, seed=10)\n",
        "\n"
      ],
      "metadata": {
        "id": "nCSKa-DD0-WG"
      },
      "execution_count": null,
      "outputs": []
    },
    {
      "cell_type": "code",
      "source": [
        "test.count()"
      ],
      "metadata": {
        "colab": {
          "base_uri": "https://localhost:8080/"
        },
        "id": "OmWPG6Cgu6bT",
        "outputId": "60e73981-a589-4408-dc75-6ff8660d44b2"
      },
      "execution_count": null,
      "outputs": [
        {
          "output_type": "execute_result",
          "data": {
            "text/plain": [
              "2283"
            ]
          },
          "metadata": {},
          "execution_count": 35
        }
      ]
    },
    {
      "cell_type": "code",
      "source": [
        "rfModel = rf.fit(train)\n",
        "predictions = rfModel.transform(df_m_test)\n",
        "#print(\"Training Dataset Count: \" + str(train.count()))\n",
        "#print(\"Test Dataset Count: \" + str(test.count()))"
      ],
      "metadata": {
        "id": "WWlfh-Ayu5MS",
        "colab": {
          "base_uri": "https://localhost:8080/",
          "height": 365
        },
        "outputId": "26240bd0-fb80-411b-a303-8fdec6e3b23d"
      },
      "execution_count": null,
      "outputs": [
        {
          "output_type": "error",
          "ename": "ConnectionRefusedError",
          "evalue": "ignored",
          "traceback": [
            "\u001b[0;31m---------------------------------------------------------------------------\u001b[0m",
            "\u001b[0;31mConnectionRefusedError\u001b[0m                    Traceback (most recent call last)",
            "\u001b[0;32m<ipython-input-40-3a8b74bf9166>\u001b[0m in \u001b[0;36m<module>\u001b[0;34m\u001b[0m\n\u001b[0;32m----> 1\u001b[0;31m \u001b[0mrfModel\u001b[0m \u001b[0;34m=\u001b[0m \u001b[0mrf\u001b[0m\u001b[0;34m.\u001b[0m\u001b[0mfit\u001b[0m\u001b[0;34m(\u001b[0m\u001b[0mtrain\u001b[0m\u001b[0;34m)\u001b[0m\u001b[0;34m\u001b[0m\u001b[0;34m\u001b[0m\u001b[0m\n\u001b[0m\u001b[1;32m      2\u001b[0m \u001b[0mpredictions\u001b[0m \u001b[0;34m=\u001b[0m \u001b[0mrfModel\u001b[0m\u001b[0;34m.\u001b[0m\u001b[0mtransform\u001b[0m\u001b[0;34m(\u001b[0m\u001b[0mdf_m_test\u001b[0m\u001b[0;34m)\u001b[0m\u001b[0;34m\u001b[0m\u001b[0;34m\u001b[0m\u001b[0m\n\u001b[1;32m      3\u001b[0m \u001b[0;31m#print(\"Training Dataset Count: \" + str(train.count()))\u001b[0m\u001b[0;34m\u001b[0m\u001b[0;34m\u001b[0m\u001b[0;34m\u001b[0m\u001b[0m\n\u001b[1;32m      4\u001b[0m \u001b[0;31m#print(\"Test Dataset Count: \" + str(test.count()))\u001b[0m\u001b[0;34m\u001b[0m\u001b[0;34m\u001b[0m\u001b[0;34m\u001b[0m\u001b[0m\n",
            "\u001b[0;32m/content/spark-3.3.2-bin-hadoop3/python/pyspark/ml/base.py\u001b[0m in \u001b[0;36mfit\u001b[0;34m(self, dataset, params)\u001b[0m\n\u001b[1;32m    203\u001b[0m                 \u001b[0;32mreturn\u001b[0m \u001b[0mself\u001b[0m\u001b[0;34m.\u001b[0m\u001b[0mcopy\u001b[0m\u001b[0;34m(\u001b[0m\u001b[0mparams\u001b[0m\u001b[0;34m)\u001b[0m\u001b[0;34m.\u001b[0m\u001b[0m_fit\u001b[0m\u001b[0;34m(\u001b[0m\u001b[0mdataset\u001b[0m\u001b[0;34m)\u001b[0m\u001b[0;34m\u001b[0m\u001b[0;34m\u001b[0m\u001b[0m\n\u001b[1;32m    204\u001b[0m             \u001b[0;32melse\u001b[0m\u001b[0;34m:\u001b[0m\u001b[0;34m\u001b[0m\u001b[0;34m\u001b[0m\u001b[0m\n\u001b[0;32m--> 205\u001b[0;31m                 \u001b[0;32mreturn\u001b[0m \u001b[0mself\u001b[0m\u001b[0;34m.\u001b[0m\u001b[0m_fit\u001b[0m\u001b[0;34m(\u001b[0m\u001b[0mdataset\u001b[0m\u001b[0;34m)\u001b[0m\u001b[0;34m\u001b[0m\u001b[0;34m\u001b[0m\u001b[0m\n\u001b[0m\u001b[1;32m    206\u001b[0m         \u001b[0;32melse\u001b[0m\u001b[0;34m:\u001b[0m\u001b[0;34m\u001b[0m\u001b[0;34m\u001b[0m\u001b[0m\n\u001b[1;32m    207\u001b[0m             raise TypeError(\n",
            "\u001b[0;32m/content/spark-3.3.2-bin-hadoop3/python/pyspark/ml/wrapper.py\u001b[0m in \u001b[0;36m_fit\u001b[0;34m(self, dataset)\u001b[0m\n\u001b[1;32m    381\u001b[0m \u001b[0;34m\u001b[0m\u001b[0m\n\u001b[1;32m    382\u001b[0m     \u001b[0;32mdef\u001b[0m \u001b[0m_fit\u001b[0m\u001b[0;34m(\u001b[0m\u001b[0mself\u001b[0m\u001b[0;34m,\u001b[0m \u001b[0mdataset\u001b[0m\u001b[0;34m:\u001b[0m \u001b[0mDataFrame\u001b[0m\u001b[0;34m)\u001b[0m \u001b[0;34m->\u001b[0m \u001b[0mJM\u001b[0m\u001b[0;34m:\u001b[0m\u001b[0;34m\u001b[0m\u001b[0;34m\u001b[0m\u001b[0m\n\u001b[0;32m--> 383\u001b[0;31m         \u001b[0mjava_model\u001b[0m \u001b[0;34m=\u001b[0m \u001b[0mself\u001b[0m\u001b[0;34m.\u001b[0m\u001b[0m_fit_java\u001b[0m\u001b[0;34m(\u001b[0m\u001b[0mdataset\u001b[0m\u001b[0;34m)\u001b[0m\u001b[0;34m\u001b[0m\u001b[0;34m\u001b[0m\u001b[0m\n\u001b[0m\u001b[1;32m    384\u001b[0m         \u001b[0mmodel\u001b[0m \u001b[0;34m=\u001b[0m \u001b[0mself\u001b[0m\u001b[0;34m.\u001b[0m\u001b[0m_create_model\u001b[0m\u001b[0;34m(\u001b[0m\u001b[0mjava_model\u001b[0m\u001b[0;34m)\u001b[0m\u001b[0;34m\u001b[0m\u001b[0;34m\u001b[0m\u001b[0m\n\u001b[1;32m    385\u001b[0m         \u001b[0;32mreturn\u001b[0m \u001b[0mself\u001b[0m\u001b[0;34m.\u001b[0m\u001b[0m_copyValues\u001b[0m\u001b[0;34m(\u001b[0m\u001b[0mmodel\u001b[0m\u001b[0;34m)\u001b[0m\u001b[0;34m\u001b[0m\u001b[0;34m\u001b[0m\u001b[0m\n",
            "\u001b[0;32m/content/spark-3.3.2-bin-hadoop3/python/pyspark/ml/wrapper.py\u001b[0m in \u001b[0;36m_fit_java\u001b[0;34m(self, dataset)\u001b[0m\n\u001b[1;32m    377\u001b[0m         \u001b[0;32massert\u001b[0m \u001b[0mself\u001b[0m\u001b[0;34m.\u001b[0m\u001b[0m_java_obj\u001b[0m \u001b[0;32mis\u001b[0m \u001b[0;32mnot\u001b[0m \u001b[0;32mNone\u001b[0m\u001b[0;34m\u001b[0m\u001b[0;34m\u001b[0m\u001b[0m\n\u001b[1;32m    378\u001b[0m \u001b[0;34m\u001b[0m\u001b[0m\n\u001b[0;32m--> 379\u001b[0;31m         \u001b[0mself\u001b[0m\u001b[0;34m.\u001b[0m\u001b[0m_transfer_params_to_java\u001b[0m\u001b[0;34m(\u001b[0m\u001b[0;34m)\u001b[0m\u001b[0;34m\u001b[0m\u001b[0;34m\u001b[0m\u001b[0m\n\u001b[0m\u001b[1;32m    380\u001b[0m         \u001b[0;32mreturn\u001b[0m \u001b[0mself\u001b[0m\u001b[0;34m.\u001b[0m\u001b[0m_java_obj\u001b[0m\u001b[0;34m.\u001b[0m\u001b[0mfit\u001b[0m\u001b[0;34m(\u001b[0m\u001b[0mdataset\u001b[0m\u001b[0;34m.\u001b[0m\u001b[0m_jdf\u001b[0m\u001b[0;34m)\u001b[0m\u001b[0;34m\u001b[0m\u001b[0;34m\u001b[0m\u001b[0m\n\u001b[1;32m    381\u001b[0m \u001b[0;34m\u001b[0m\u001b[0m\n",
            "\u001b[0;32m/content/spark-3.3.2-bin-hadoop3/python/pyspark/ml/wrapper.py\u001b[0m in \u001b[0;36m_transfer_params_to_java\u001b[0;34m(self)\u001b[0m\n\u001b[1;32m    172\u001b[0m                 \u001b[0mself\u001b[0m\u001b[0;34m.\u001b[0m\u001b[0m_java_obj\u001b[0m\u001b[0;34m.\u001b[0m\u001b[0mset\u001b[0m\u001b[0;34m(\u001b[0m\u001b[0mpair\u001b[0m\u001b[0;34m)\u001b[0m\u001b[0;34m\u001b[0m\u001b[0;34m\u001b[0m\u001b[0m\n\u001b[1;32m    173\u001b[0m             \u001b[0;32mif\u001b[0m \u001b[0mself\u001b[0m\u001b[0;34m.\u001b[0m\u001b[0mhasDefault\u001b[0m\u001b[0;34m(\u001b[0m\u001b[0mparam\u001b[0m\u001b[0;34m)\u001b[0m\u001b[0;34m:\u001b[0m\u001b[0;34m\u001b[0m\u001b[0;34m\u001b[0m\u001b[0m\n\u001b[0;32m--> 174\u001b[0;31m                 \u001b[0mpair\u001b[0m \u001b[0;34m=\u001b[0m \u001b[0mself\u001b[0m\u001b[0;34m.\u001b[0m\u001b[0m_make_java_param_pair\u001b[0m\u001b[0;34m(\u001b[0m\u001b[0mparam\u001b[0m\u001b[0;34m,\u001b[0m \u001b[0mself\u001b[0m\u001b[0;34m.\u001b[0m\u001b[0m_defaultParamMap\u001b[0m\u001b[0;34m[\u001b[0m\u001b[0mparam\u001b[0m\u001b[0;34m]\u001b[0m\u001b[0;34m)\u001b[0m\u001b[0;34m\u001b[0m\u001b[0;34m\u001b[0m\u001b[0m\n\u001b[0m\u001b[1;32m    175\u001b[0m                 \u001b[0mpair_defaults\u001b[0m\u001b[0;34m.\u001b[0m\u001b[0mappend\u001b[0m\u001b[0;34m(\u001b[0m\u001b[0mpair\u001b[0m\u001b[0;34m)\u001b[0m\u001b[0;34m\u001b[0m\u001b[0;34m\u001b[0m\u001b[0m\n\u001b[1;32m    176\u001b[0m         \u001b[0;32mif\u001b[0m \u001b[0mlen\u001b[0m\u001b[0;34m(\u001b[0m\u001b[0mpair_defaults\u001b[0m\u001b[0;34m)\u001b[0m \u001b[0;34m>\u001b[0m \u001b[0;36m0\u001b[0m\u001b[0;34m:\u001b[0m\u001b[0;34m\u001b[0m\u001b[0;34m\u001b[0m\u001b[0m\n",
            "\u001b[0;32m/content/spark-3.3.2-bin-hadoop3/python/pyspark/ml/wrapper.py\u001b[0m in \u001b[0;36m_make_java_param_pair\u001b[0;34m(self, param, value)\u001b[0m\n\u001b[1;32m    156\u001b[0m \u001b[0;34m\u001b[0m\u001b[0m\n\u001b[1;32m    157\u001b[0m         \u001b[0mparam\u001b[0m \u001b[0;34m=\u001b[0m \u001b[0mself\u001b[0m\u001b[0;34m.\u001b[0m\u001b[0m_resolveParam\u001b[0m\u001b[0;34m(\u001b[0m\u001b[0mparam\u001b[0m\u001b[0;34m)\u001b[0m\u001b[0;34m\u001b[0m\u001b[0;34m\u001b[0m\u001b[0m\n\u001b[0;32m--> 158\u001b[0;31m         \u001b[0mjava_param\u001b[0m \u001b[0;34m=\u001b[0m \u001b[0mself\u001b[0m\u001b[0;34m.\u001b[0m\u001b[0m_java_obj\u001b[0m\u001b[0;34m.\u001b[0m\u001b[0mgetParam\u001b[0m\u001b[0;34m(\u001b[0m\u001b[0mparam\u001b[0m\u001b[0;34m.\u001b[0m\u001b[0mname\u001b[0m\u001b[0;34m)\u001b[0m\u001b[0;34m\u001b[0m\u001b[0;34m\u001b[0m\u001b[0m\n\u001b[0m\u001b[1;32m    159\u001b[0m         \u001b[0mjava_value\u001b[0m \u001b[0;34m=\u001b[0m \u001b[0m_py2java\u001b[0m\u001b[0;34m(\u001b[0m\u001b[0msc\u001b[0m\u001b[0;34m,\u001b[0m \u001b[0mvalue\u001b[0m\u001b[0;34m)\u001b[0m\u001b[0;34m\u001b[0m\u001b[0;34m\u001b[0m\u001b[0m\n\u001b[1;32m    160\u001b[0m         \u001b[0;32mreturn\u001b[0m \u001b[0mjava_param\u001b[0m\u001b[0;34m.\u001b[0m\u001b[0mw\u001b[0m\u001b[0;34m(\u001b[0m\u001b[0mjava_value\u001b[0m\u001b[0;34m)\u001b[0m\u001b[0;34m\u001b[0m\u001b[0;34m\u001b[0m\u001b[0m\n",
            "\u001b[0;32m/content/spark-3.3.2-bin-hadoop3/python/lib/py4j-0.10.9.5-src.zip/py4j/java_gateway.py\u001b[0m in \u001b[0;36m__call__\u001b[0;34m(self, *args)\u001b[0m\n\u001b[1;32m   1318\u001b[0m             \u001b[0mproto\u001b[0m\u001b[0;34m.\u001b[0m\u001b[0mEND_COMMAND_PART\u001b[0m\u001b[0;34m\u001b[0m\u001b[0;34m\u001b[0m\u001b[0m\n\u001b[1;32m   1319\u001b[0m \u001b[0;34m\u001b[0m\u001b[0m\n\u001b[0;32m-> 1320\u001b[0;31m         \u001b[0manswer\u001b[0m \u001b[0;34m=\u001b[0m \u001b[0mself\u001b[0m\u001b[0;34m.\u001b[0m\u001b[0mgateway_client\u001b[0m\u001b[0;34m.\u001b[0m\u001b[0msend_command\u001b[0m\u001b[0;34m(\u001b[0m\u001b[0mcommand\u001b[0m\u001b[0;34m)\u001b[0m\u001b[0;34m\u001b[0m\u001b[0;34m\u001b[0m\u001b[0m\n\u001b[0m\u001b[1;32m   1321\u001b[0m         return_value = get_return_value(\n\u001b[1;32m   1322\u001b[0m             answer, self.gateway_client, self.target_id, self.name)\n",
            "\u001b[0;32m/content/spark-3.3.2-bin-hadoop3/python/lib/py4j-0.10.9.5-src.zip/py4j/java_gateway.py\u001b[0m in \u001b[0;36msend_command\u001b[0;34m(self, command, retry, binary)\u001b[0m\n\u001b[1;32m   1034\u001b[0m          \u001b[0;32mif\u001b[0m\u001b[0;31m \u001b[0m\u001b[0;31m`\u001b[0m\u001b[0mbinary\u001b[0m\u001b[0;31m`\u001b[0m \u001b[0;32mis\u001b[0m\u001b[0;31m \u001b[0m\u001b[0;31m`\u001b[0m\u001b[0;32mTrue\u001b[0m\u001b[0;31m`\u001b[0m\u001b[0;34m.\u001b[0m\u001b[0;34m\u001b[0m\u001b[0;34m\u001b[0m\u001b[0m\n\u001b[1;32m   1035\u001b[0m         \"\"\"\n\u001b[0;32m-> 1036\u001b[0;31m         \u001b[0mconnection\u001b[0m \u001b[0;34m=\u001b[0m \u001b[0mself\u001b[0m\u001b[0;34m.\u001b[0m\u001b[0m_get_connection\u001b[0m\u001b[0;34m(\u001b[0m\u001b[0;34m)\u001b[0m\u001b[0;34m\u001b[0m\u001b[0;34m\u001b[0m\u001b[0m\n\u001b[0m\u001b[1;32m   1037\u001b[0m         \u001b[0;32mtry\u001b[0m\u001b[0;34m:\u001b[0m\u001b[0;34m\u001b[0m\u001b[0;34m\u001b[0m\u001b[0m\n\u001b[1;32m   1038\u001b[0m             \u001b[0mresponse\u001b[0m \u001b[0;34m=\u001b[0m \u001b[0mconnection\u001b[0m\u001b[0;34m.\u001b[0m\u001b[0msend_command\u001b[0m\u001b[0;34m(\u001b[0m\u001b[0mcommand\u001b[0m\u001b[0;34m)\u001b[0m\u001b[0;34m\u001b[0m\u001b[0;34m\u001b[0m\u001b[0m\n",
            "\u001b[0;32m/content/spark-3.3.2-bin-hadoop3/python/lib/py4j-0.10.9.5-src.zip/py4j/clientserver.py\u001b[0m in \u001b[0;36m_get_connection\u001b[0;34m(self)\u001b[0m\n\u001b[1;32m    282\u001b[0m \u001b[0;34m\u001b[0m\u001b[0m\n\u001b[1;32m    283\u001b[0m         \u001b[0;32mif\u001b[0m \u001b[0mconnection\u001b[0m \u001b[0;32mis\u001b[0m \u001b[0;32mNone\u001b[0m \u001b[0;32mor\u001b[0m \u001b[0mconnection\u001b[0m\u001b[0;34m.\u001b[0m\u001b[0msocket\u001b[0m \u001b[0;32mis\u001b[0m \u001b[0;32mNone\u001b[0m\u001b[0;34m:\u001b[0m\u001b[0;34m\u001b[0m\u001b[0;34m\u001b[0m\u001b[0m\n\u001b[0;32m--> 284\u001b[0;31m             \u001b[0mconnection\u001b[0m \u001b[0;34m=\u001b[0m \u001b[0mself\u001b[0m\u001b[0;34m.\u001b[0m\u001b[0m_create_new_connection\u001b[0m\u001b[0;34m(\u001b[0m\u001b[0;34m)\u001b[0m\u001b[0;34m\u001b[0m\u001b[0;34m\u001b[0m\u001b[0m\n\u001b[0m\u001b[1;32m    285\u001b[0m         \u001b[0;32mreturn\u001b[0m \u001b[0mconnection\u001b[0m\u001b[0;34m\u001b[0m\u001b[0;34m\u001b[0m\u001b[0m\n\u001b[1;32m    286\u001b[0m \u001b[0;34m\u001b[0m\u001b[0m\n",
            "\u001b[0;32m/content/spark-3.3.2-bin-hadoop3/python/lib/py4j-0.10.9.5-src.zip/py4j/clientserver.py\u001b[0m in \u001b[0;36m_create_new_connection\u001b[0;34m(self)\u001b[0m\n\u001b[1;32m    289\u001b[0m             \u001b[0mself\u001b[0m\u001b[0;34m.\u001b[0m\u001b[0mjava_parameters\u001b[0m\u001b[0;34m,\u001b[0m \u001b[0mself\u001b[0m\u001b[0;34m.\u001b[0m\u001b[0mpython_parameters\u001b[0m\u001b[0;34m,\u001b[0m\u001b[0;34m\u001b[0m\u001b[0;34m\u001b[0m\u001b[0m\n\u001b[1;32m    290\u001b[0m             self.gateway_property, self)\n\u001b[0;32m--> 291\u001b[0;31m         \u001b[0mconnection\u001b[0m\u001b[0;34m.\u001b[0m\u001b[0mconnect_to_java_server\u001b[0m\u001b[0;34m(\u001b[0m\u001b[0;34m)\u001b[0m\u001b[0;34m\u001b[0m\u001b[0;34m\u001b[0m\u001b[0m\n\u001b[0m\u001b[1;32m    292\u001b[0m         \u001b[0mself\u001b[0m\u001b[0;34m.\u001b[0m\u001b[0mset_thread_connection\u001b[0m\u001b[0;34m(\u001b[0m\u001b[0mconnection\u001b[0m\u001b[0;34m)\u001b[0m\u001b[0;34m\u001b[0m\u001b[0;34m\u001b[0m\u001b[0m\n\u001b[1;32m    293\u001b[0m         \u001b[0;32mreturn\u001b[0m \u001b[0mconnection\u001b[0m\u001b[0;34m\u001b[0m\u001b[0;34m\u001b[0m\u001b[0m\n",
            "\u001b[0;32m/content/spark-3.3.2-bin-hadoop3/python/lib/py4j-0.10.9.5-src.zip/py4j/clientserver.py\u001b[0m in \u001b[0;36mconnect_to_java_server\u001b[0;34m(self)\u001b[0m\n\u001b[1;32m    436\u001b[0m                 self.socket = self.ssl_context.wrap_socket(\n\u001b[1;32m    437\u001b[0m                     self.socket, server_hostname=self.java_address)\n\u001b[0;32m--> 438\u001b[0;31m             \u001b[0mself\u001b[0m\u001b[0;34m.\u001b[0m\u001b[0msocket\u001b[0m\u001b[0;34m.\u001b[0m\u001b[0mconnect\u001b[0m\u001b[0;34m(\u001b[0m\u001b[0;34m(\u001b[0m\u001b[0mself\u001b[0m\u001b[0;34m.\u001b[0m\u001b[0mjava_address\u001b[0m\u001b[0;34m,\u001b[0m \u001b[0mself\u001b[0m\u001b[0;34m.\u001b[0m\u001b[0mjava_port\u001b[0m\u001b[0;34m)\u001b[0m\u001b[0;34m)\u001b[0m\u001b[0;34m\u001b[0m\u001b[0;34m\u001b[0m\u001b[0m\n\u001b[0m\u001b[1;32m    439\u001b[0m             \u001b[0mself\u001b[0m\u001b[0;34m.\u001b[0m\u001b[0mstream\u001b[0m \u001b[0;34m=\u001b[0m \u001b[0mself\u001b[0m\u001b[0;34m.\u001b[0m\u001b[0msocket\u001b[0m\u001b[0;34m.\u001b[0m\u001b[0mmakefile\u001b[0m\u001b[0;34m(\u001b[0m\u001b[0;34m\"rb\"\u001b[0m\u001b[0;34m)\u001b[0m\u001b[0;34m\u001b[0m\u001b[0;34m\u001b[0m\u001b[0m\n\u001b[1;32m    440\u001b[0m             \u001b[0mself\u001b[0m\u001b[0;34m.\u001b[0m\u001b[0mis_connected\u001b[0m \u001b[0;34m=\u001b[0m \u001b[0;32mTrue\u001b[0m\u001b[0;34m\u001b[0m\u001b[0;34m\u001b[0m\u001b[0m\n",
            "\u001b[0;31mConnectionRefusedError\u001b[0m: [Errno 111] Connection refused"
          ]
        }
      ]
    },
    {
      "cell_type": "code",
      "source": [
        "print (predictions.show(1))"
      ],
      "metadata": {
        "id": "3bq1o4IAvbi1",
        "colab": {
          "base_uri": "https://localhost:8080/"
        },
        "outputId": "2867170f-823d-4555-fe92-dc988af3ea44"
      },
      "execution_count": null,
      "outputs": [
        {
          "output_type": "stream",
          "name": "stdout",
          "text": [
            "+--------------------+--------------------+--------------------+---------+------------------+---------------+---------------------+------------------+---------------+---------------------+--------------------+------------------------+-------------------+--------------------+----------+-----------+--------+------------+-----+----------+--------------------+-------------+-----------+----------+\n",
            "|                 src|                edge|                 dst|title_lev|   description_lev|title_token_sim|description_token_sim|         price_sim|title_tfidf_sim|description_tfidf_sim|  title_encoding_sim|description_encoding_sim|        overall_sim|              src_id|    dst_id|diff_source|idAmazon|idGoogleBase|mapIF|mapped_flg|            features|rawPrediction|probability|prediction|\n",
            "+--------------------+--------------------+--------------------+---------+------------------+---------------+---------------------+------------------+---------------+---------------------+--------------------+------------------------+-------------------+--------------------+----------+-----------+--------+------------+-----+----------+--------------------+-------------+-----------+----------+\n",
            "|{http://www.googl...|{http://www.googl...|{b000787g6q, Amaz...|      0.0|0.1730205278592375|            0.0|  0.05263157894736842|-4.668556185395132|            0.0| 0.016076234451443006|-0.02135746620032425|     0.23726657674116716|-0.4678798592884712|http://www.google...|b000787g6q|          1|    null|        null| null|         0|[0.17302052785923...|   [20.0,0.0]|  [1.0,0.0]|       0.0|\n",
            "+--------------------+--------------------+--------------------+---------+------------------+---------------+---------------------+------------------+---------------+---------------------+--------------------+------------------------+-------------------+--------------------+----------+-----------+--------+------------+-----+----------+--------------------+-------------+-----------+----------+\n",
            "only showing top 1 row\n",
            "\n",
            "None\n"
          ]
        }
      ]
    },
    {
      "cell_type": "code",
      "source": [
        "from sklearn.metrics import confusion_matrix\n",
        "\n",
        "y_true = predictions.select(['mapped_flg']).collect()\n",
        "y_pred = predictions.select(['prediction']).collect()\n",
        "\n",
        "cm = confusion_matrix(y_true, y_pred)\n",
        "print(cm)\n"
      ],
      "metadata": {
        "colab": {
          "base_uri": "https://localhost:8080/"
        },
        "id": "1fE_F24xYVVh",
        "outputId": "0ad40311-461b-4cdf-f5b2-1eb0425417fb"
      },
      "execution_count": null,
      "outputs": [
        {
          "output_type": "stream",
          "name": "stdout",
          "text": [
            "[[4392    0]\n",
            " [   0  366]]\n"
          ]
        }
      ]
    },
    {
      "cell_type": "code",
      "source": [
        "TP = cm[0, 0]\n",
        "TN = cm[1, 1]\n",
        "FP = cm[1, 0]\n",
        "FN = cm[0, 1]\n",
        "\n",
        "accuracy = (TP + TN) / (TP + TN + FP + FN)\n",
        "precision = TP / (TP + FP)\n",
        "recall = TP / (TP + FN)\n",
        "specificity = TN / (TN + FP)\n",
        "f1_score = 2 * precision * recall / (precision + recall)\n",
        "\n",
        "print(\"Accuracy:\", accuracy)\n",
        "print(\"Precision:\", precision)\n",
        "print(\"Recall:\", recall)\n",
        "print(\"Specificity:\", specificity)\n",
        "print(\"F1 Score:\", f1_score)"
      ],
      "metadata": {
        "colab": {
          "base_uri": "https://localhost:8080/"
        },
        "id": "bs-g8D2zZn0a",
        "outputId": "7c5b1c1c-f941-4610-b6bd-09261e5d07b7"
      },
      "execution_count": null,
      "outputs": [
        {
          "output_type": "stream",
          "name": "stdout",
          "text": [
            "Accuracy: 0.9378011388523873\n",
            "Precision: 0.9678733031674208\n",
            "Recall: 0.9678733031674208\n",
            "Specificity: 0.0273972602739726\n",
            "F1 Score: 0.9678733031674208\n"
          ]
        }
      ]
    },
    {
      "cell_type": "code",
      "source": [
        "import seaborn as sns\n",
        "sns.heatmap(cm, annot=True, cmap=\"Blues\", fmt=\"d\", xticklabels=[\"No\", \"Yes\"], yticklabels=[\"No\", \"Yes\"])\n",
        "plt.xlabel(\"Predicted label\")\n",
        "plt.ylabel(\"True label\")\n",
        "plt.show()"
      ],
      "metadata": {
        "colab": {
          "base_uri": "https://localhost:8080/",
          "height": 279
        },
        "id": "FeZLFaUydcwK",
        "outputId": "4bd89b7b-3038-45e5-a68e-4e3e995124d7"
      },
      "execution_count": null,
      "outputs": [
        {
          "output_type": "display_data",
          "data": {
            "text/plain": [
              "<Figure size 432x288 with 2 Axes>"
            ],
            "image/png": "[encoded data removed]"
          },
          "metadata": {
            "needs_background": "light"
          }
        }
      ]
    },
    {
      "cell_type": "code",
      "source": [
        "from sklearn.metrics import roc_curve, auc\n",
        "import matplotlib.pyplot as plt\n",
        "\n",
        "# assuming you have defined the true labels as y_true and predicted probabilities as y_pred\n",
        "fpr, tpr, thresholds = roc_curve(y_true, y_pred)\n",
        "roc_auc = auc(fpr, tpr)\n",
        "\n",
        "# plot the ROC curve\n",
        "plt.plot(fpr, tpr, color='darkorange', lw=2, label='ROC curve (area = %0.2f)' % roc_auc)\n",
        "plt.plot([0, 1], [0, 1], color='navy', lw=2, linestyle='--')\n",
        "plt.xlim([0.0, 1.0])\n",
        "plt.ylim([0.0, 1.05])\n",
        "plt.xlabel('False Positive Rate')\n",
        "plt.ylabel('True Positive Rate')\n",
        "plt.title('Receiver Operating Characteristic')\n",
        "plt.legend(loc=\"lower right\")\n",
        "plt.show()"
      ],
      "metadata": {
        "colab": {
          "base_uri": "https://localhost:8080/",
          "height": 295
        },
        "id": "Jdf26zB1fBIB",
        "outputId": "67087955-a2e9-4125-a6d2-e1d275f9d675"
      },
      "execution_count": null,
      "outputs": [
        {
          "output_type": "display_data",
          "data": {
            "text/plain": [
              "<Figure size 432x288 with 1 Axes>"
            ],
            "image/png": "[encoded data removed]"
          },
          "metadata": {
            "needs_background": "light"
          }
        }
      ]
    },
    {
      "cell_type": "code",
      "source": [
        "rfModel.featureImportances"
      ],
      "metadata": {
        "colab": {
          "base_uri": "https://localhost:8080/"
        },
        "id": "L2-EiY3k8zS1",
        "outputId": "b7bb55b9-e282-427d-8ee2-6c0d57292b5d"
      },
      "execution_count": null,
      "outputs": [
        {
          "output_type": "execute_result",
          "data": {
            "text/plain": [
              "SparseVector(10, {0: 0.0103, 1: 0.0004, 2: 0.0209, 4: 0.0297, 5: 0.007, 6: 0.0195, 7: 0.0099, 8: 0.003, 9: 0.8992})"
            ]
          },
          "metadata": {},
          "execution_count": 43
        }
      ]
    },
    {
      "cell_type": "code",
      "source": [
        "import matplotlib.pyplot as plt\n",
        "importances = rfModel.featureImportances\n",
        "\n",
        "# create a list of feature names\n",
        "feature_names = train.columns[:10]\n",
        "print(feature_names)\n",
        "# create a bar chart of feature importances\n",
        "plt.bar(feature_names, importances)\n",
        "\n",
        "# set x-axis label\n",
        "plt.xlabel('Feature')\n",
        "\n",
        "# set y-axis label\n",
        "plt.ylabel('Importance')\n",
        "\n",
        "# set chart title\n",
        "plt.title('Feature Importances')\n",
        "\n",
        "# rotate x-axis labels to improve readability\n",
        "plt.xticks(rotation=90)\n",
        "\n",
        "# display the chart\n",
        "plt.show()"
      ],
      "metadata": {
        "colab": {
          "base_uri": "https://localhost:8080/",
          "height": 433
        },
        "id": "dd3EOUen7Lzf",
        "outputId": "ac12d1e2-59a6-46ef-8747-d5a86b10c7d3"
      },
      "execution_count": null,
      "outputs": [
        {
          "output_type": "stream",
          "name": "stdout",
          "text": [
            "['src', 'edge', 'dst', 'title_lev', 'description_lev', 'title_token_sim', 'description_token_sim', 'price_sim', 'title_tfidf_sim', 'description_tfidf_sim']\n"
          ]
        },
        {
          "output_type": "display_data",
          "data": {
            "text/plain": [
              "<Figure size 432x288 with 1 Axes>"
            ],
            "image/png": "[encoded data removed]"
          },
          "metadata": {
            "needs_background": "light"
          }
        }
      ]
    },
    {
      "cell_type": "markdown",
      "source": [
        "**evaluating the model**"
      ],
      "metadata": {
        "id": "w962VSQMSONr"
      }
    },
    {
      "cell_type": "code",
      "source": [
        "# initialize the evaluator\n",
        "from pyspark.ml.evaluation import BinaryClassificationEvaluator\n",
        "evaluator = BinaryClassificationEvaluator(labelCol=\"mapped_flg\")\n",
        "# calculate AUC\n",
        "auc = evaluator.evaluate(predictions, {evaluator.metricName: 'areaUnderROC'})\n",
        "print('Test AUC: %0.3f' % auc)\n"
      ],
      "metadata": {
        "id": "cVzqIsUNroli",
        "colab": {
          "base_uri": "https://localhost:8080/"
        },
        "outputId": "69444bad-08aa-4795-aa16-4aebbc680216"
      },
      "execution_count": null,
      "outputs": [
        {
          "output_type": "stream",
          "name": "stdout",
          "text": [
            "Test AUC: 1.000\n"
          ]
        }
      ]
    },
    {
      "cell_type": "code",
      "source": [
        "train_auc = evaluator.evaluate(train_predictions, {evaluator.metricName: 'areaUnderROC'})\n",
        "print('Train AUC: %0.3f' % train_auc)"
      ],
      "metadata": {
        "id": "OLqTwdED_qDd"
      },
      "execution_count": null,
      "outputs": []
    },
    {
      "cell_type": "code",
      "source": [
        "#Draw ROC curve:\n",
        "import matplotlib.pyplot as plt\n",
        "plt.figure(figsize=(5,5))\n",
        "plt.plot([0, 1], [0, 1], 'r--')\n",
        "plt.plot(rfModel.summary.roc.select('FPR').collect(),\n",
        "         rfModel.summary.roc.select('TPR').collect())\n",
        "plt.xlabel('FPR')\n",
        "plt.ylabel('TPR')\n",
        "plt.show()"
      ],
      "metadata": {
        "id": "9BXii8xrscb1",
        "colab": {
          "base_uri": "https://localhost:8080/",
          "height": 334
        },
        "outputId": "50ee60f8-c765-412f-d60c-76e70ae62ade"
      },
      "execution_count": null,
      "outputs": [
        {
          "output_type": "display_data",
          "data": {
            "text/plain": [
              "<Figure size 360x360 with 1 Axes>"
            ],
            "image/png": "[encoded data removed]"
          },
          "metadata": {
            "needs_background": "light"
          }
        }
      ]
    },
    {
      "cell_type": "markdown",
      "source": [],
      "metadata": {
        "id": "AUGqbW-vSTKv"
      }
    },
    {
      "cell_type": "markdown",
      "source": [
        "**Generate entities:**"
      ],
      "metadata": {
        "id": "UsA2XUeLSRvM"
      }
    },
    {
      "cell_type": "code",
      "source": [
        "##Generate entities:\n",
        "predictions_pairs = rfModel.transform(df_m)\n",
        "\n",
        "#Matched entities:\n",
        "generated_entities=predictions_pairs.filter(predictions_pairs.prediction==predictions_pairs.mapped_flg)\n",
        "#apply the model on whole dataset "
      ],
      "metadata": {
        "id": "6safdkW3SpFz"
      },
      "execution_count": null,
      "outputs": []
    },
    {
      "cell_type": "code",
      "source": [
        "generated_entities.show(10)"
      ],
      "metadata": {
        "colab": {
          "base_uri": "https://localhost:8080/"
        },
        "id": "Zv3t3HvSm3hJ",
        "outputId": "e006b29a-cd8d-4b50-a14a-aff7376eab69"
      },
      "execution_count": null,
      "outputs": [
        {
          "output_type": "stream",
          "name": "stdout",
          "text": [
            "+--------------------+--------------------+--------------------+-------------------+--------------------+-------------------+---------------------+-------------------+-------------------+---------------------+--------------------+------------------------+--------------------+--------------------+--------------------+-----------+--------+------------+-----+----------+--------------------+--------------------+--------------------+----------+\n",
            "|                 src|                edge|                 dst|          title_lev|     description_lev|    title_token_sim|description_token_sim|          price_sim|    title_tfidf_sim|description_tfidf_sim|  title_encoding_sim|description_encoding_sim|         overall_sim|              src_id|              dst_id|diff_source|idAmazon|idGoogleBase|mapIF|mapped_flg|            features|       rawPrediction|         probability|prediction|\n",
            "+--------------------+--------------------+--------------------+-------------------+--------------------+-------------------+---------------------+-------------------+-------------------+---------------------+--------------------+------------------------+--------------------+--------------------+--------------------+-----------+--------+------------+-----+----------+--------------------+--------------------+--------------------+----------+\n",
            "|{http://www.googl...|{http://www.googl...|{b000787g6q, Amaz...|                0.0|  0.1730205278592375|                0.0|  0.05263157894736842| -4.668556185395132|                0.0| 0.016076234451443006|-0.02135746620032425|     0.23726657674116716| -0.4678798592884712|http://www.google...|          b000787g6q|          1|    null|        null| null|         0|[0.17302052785923...|          [20.0,0.0]|           [1.0,0.0]|       0.0|\n",
            "|{http://www.googl...|{http://www.googl...|{http://www.googl...|                0.0|  0.2081632653061225|                0.0|  0.14285714285714285|-0.7860520094562646|                0.0|  0.12388407480044403|  1.0000000713893984|     0.36704821110509545| 0.11732230622243763|http://www.google...|http://www.google...|          0|    null|        null| null|         0|[0.20816326530612...|[19.9746478873239...|[0.99873239436619...|       0.0|\n",
            "|{b0002yiuns, Amaz...|{b0002yiuns, b000...|{b000hus51e, Amaz...| 0.2264150943396226| 0.21857923497267762|                0.0|              0.03125| 0.4998749687421855|                0.0| 0.021148445970405137| 0.06722862501761584|     0.14916179838972363| 0.13485090749247003|          b0002yiuns|          b000hus51e|          0|    null|        null| null|         0|[0.21857923497267...|          [20.0,0.0]|           [1.0,0.0]|       0.0|\n",
            "|{http://www.googl...|{http://www.googl...|{b000s5x3q0, Amaz...|                0.0| 0.23867069486404835|                0.0|                 0.08| -265.6723404255319|                0.0| 0.017562297701483907|-0.01252181165269...|      0.3596374533854193| -29.443221310137076|http://www.google...|          b000s5x3q0|          1|    null|        null| null|         0|[0.23867069486404...|          [20.0,0.0]|           [1.0,0.0]|       0.0|\n",
            "|{http://www.googl...|{http://www.googl...|{b000bi7uqs, Amaz...|                0.0| 0.13790760869565222|                0.0|  0.19047619047619047| 0.0646019545786527|                0.0| 0.040005781474985354|-0.06330860362423231|      0.3171638764001814| 0.07631631200015887|http://www.google...|          b000bi7uqs|          1|    null|        null| null|         0|[0.13790760869565...|          [20.0,0.0]|           [1.0,0.0]|       0.0|\n",
            "|{b000gcj6mk, Amaz...|{b000gcj6mk, b000...|{b000jx1kma, Amaz...|0.23529411764705888|  0.2431289640591966|0.16666666666666666|  0.09302325581395349| 0.6004004004004003|0.18285619354519503|   0.3588627690397343| 0.34091575805917435|       0.630643659472059|  0.3168657538559377|          b000gcj6mk|          b000jx1kma|          0|    null|        null| null|         0|[0.24312896405919...|          [20.0,0.0]|           [1.0,0.0]|       0.0|\n",
            "|{http://www.googl...|{http://www.googl...|{http://www.googl...|                0.0| 0.08870967741935487|                0.0|                  0.0|  0.735649102148955|                0.0|                  0.0|0.017990066872060867|    -0.02468355900723241| 0.09085169860368203|http://www.google...|http://www.google...|          0|    null|        null| null|         0|(10,[0,2,7,8],[0....|[19.8790035587188...|[0.99395017793594...|       0.0|\n",
            "|{http://www.googl...|{http://www.googl...|{b000b85aag, Amaz...|                0.0|0.057062436028659125|                0.0|                 0.52| 0.8470180838784148|                0.0|   0.3461942213844778|-0.00404294153711...|      0.5819098522041064|  0.2609046279953942|http://www.google...|          b000b85aag|          1|    null|        null| null|         0|[0.05706243602865...|[19.8130841121495...|[0.99065420560747...|       0.0|\n",
            "|{http://www.googl...|{http://www.googl...|{b000ro5o7s, Amaz...|                0.0| 0.16068376068376067|                0.0|                  0.2| -1.543768748295609|                0.0|  0.16912338015695538|-0.01819170701804057|      0.4610928043504475|-0.06345116779138735|http://www.google...|          b000ro5o7s|          1|    null|        null| null|         0|[0.16068376068376...|[19.9746478873239...|[0.99873239436619...|       0.0|\n",
            "|{http://www.googl...|{http://www.googl...|{b0006se5bq, Amaz...|                0.0| 0.17886178861788615|                0.0|  0.05263157894736842|0.22132213221322128|                0.0|  0.11816708215585515|-0.06324782949307851|     0.10238028446173725| 0.06779055965588775|http://www.google...|          b0006se5bq|          1|    null|        null| null|         0|[0.17886178861788...|          [20.0,0.0]|           [1.0,0.0]|       0.0|\n",
            "+--------------------+--------------------+--------------------+-------------------+--------------------+-------------------+---------------------+-------------------+-------------------+---------------------+--------------------+------------------------+--------------------+--------------------+--------------------+-----------+--------+------------+-----+----------+--------------------+--------------------+--------------------+----------+\n",
            "only showing top 10 rows\n",
            "\n"
          ]
        }
      ]
    }
  ]
}